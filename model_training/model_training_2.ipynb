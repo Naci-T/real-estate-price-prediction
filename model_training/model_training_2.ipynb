{
 "cells": [
  {
   "cell_type": "code",
   "execution_count": 133,
   "metadata": {},
   "outputs": [],
   "source": [
    "import pandas as pd\n",
    "import seaborn as sns\n",
    "import matplotlib.pyplot as plt\n",
    "import numpy as np\n",
    "from scipy.stats import chi2_contingency\n",
    "from sklearn.model_selection import train_test_split\n",
    "\n",
    "df = pd.read_csv(\"cleaned_dataset.csv\")\n",
    "#We look at our dataframe \n",
    "\n",
    "df.head()\n",
    "df.drop('Unnamed: 0', axis=1, inplace=True)"
   ]
  },
  {
   "attachments": {},
   "cell_type": "markdown",
   "metadata": {},
   "source": [
    "Low outliers? Remove, if they represent more than 10% of dataset... Then you cannot just delete it. "
   ]
  },
  {
   "attachments": {},
   "cell_type": "markdown",
   "metadata": {},
   "source": [
    "Observations: \n",
    "- We see that there are 7338 misisng values for surface area of the land. Those missing values are probably from apartments. When we check the entries of apartments we see exactly 7338 entries. \n",
    "- There are a lot of unique values for the columns Garden and Terrace, and this column is also highly dependent on being a house or an apartment. \n",
    "\n",
    "Those observations suggest that it's better to split the dataframe in houses and apartments and to make several price predictions. Before doing the split, it's good to do some feature engineering which will have an affect on both property types. \n",
    "\n",
    "We will add region Brussel and 10 other provinces as a column 'provinces' according to their postal_code. Furthermore, we'll add an extra column USA_kitchen which will be 1 if there's any kitchen of a USA-style (whether it's fully equipped or not). Our previous datashet showed us that this could have an affect in our sale price so we would like to include this in our model."
   ]
  },
  {
   "cell_type": "code",
   "execution_count": 134,
   "metadata": {},
   "outputs": [
    {
     "data": {
      "text/html": [
       "<div>\n",
       "<style scoped>\n",
       "    .dataframe tbody tr th:only-of-type {\n",
       "        vertical-align: middle;\n",
       "    }\n",
       "\n",
       "    .dataframe tbody tr th {\n",
       "        vertical-align: top;\n",
       "    }\n",
       "\n",
       "    .dataframe thead th {\n",
       "        text-align: right;\n",
       "    }\n",
       "</style>\n",
       "<table border=\"1\" class=\"dataframe\">\n",
       "  <thead>\n",
       "    <tr style=\"text-align: right;\">\n",
       "      <th></th>\n",
       "      <th>Province</th>\n",
       "      <th>Type_of_property</th>\n",
       "      <th>Subtype_of_property</th>\n",
       "      <th>Price</th>\n",
       "      <th>Number_of_rooms</th>\n",
       "      <th>Living_Area</th>\n",
       "      <th>Fully_equipped_kitchen</th>\n",
       "      <th>Furnished</th>\n",
       "      <th>Open_fire</th>\n",
       "      <th>Terrace</th>\n",
       "      <th>Terrace_Area</th>\n",
       "      <th>Garden</th>\n",
       "      <th>Garden_Area</th>\n",
       "      <th>Surface_area_of_the_plot_of_land</th>\n",
       "      <th>Number_of_facades</th>\n",
       "      <th>Swimming_pool</th>\n",
       "      <th>State_of_the_building</th>\n",
       "    </tr>\n",
       "  </thead>\n",
       "  <tbody>\n",
       "    <tr>\n",
       "      <th>0</th>\n",
       "      <td>Brussels</td>\n",
       "      <td>APARTMENT</td>\n",
       "      <td>PENTHOUSE</td>\n",
       "      <td>450000</td>\n",
       "      <td>3</td>\n",
       "      <td>156.0</td>\n",
       "      <td>USA_HYPER_EQUIPPED</td>\n",
       "      <td>False</td>\n",
       "      <td>False</td>\n",
       "      <td>True</td>\n",
       "      <td>43.0</td>\n",
       "      <td>NaN</td>\n",
       "      <td>NaN</td>\n",
       "      <td>NaN</td>\n",
       "      <td>4.0</td>\n",
       "      <td>NaN</td>\n",
       "      <td>NaN</td>\n",
       "    </tr>\n",
       "    <tr>\n",
       "      <th>1</th>\n",
       "      <td>Brussels</td>\n",
       "      <td>APARTMENT</td>\n",
       "      <td>PENTHOUSE</td>\n",
       "      <td>450000</td>\n",
       "      <td>3</td>\n",
       "      <td>156.0</td>\n",
       "      <td>USA_HYPER_EQUIPPED</td>\n",
       "      <td>False</td>\n",
       "      <td>False</td>\n",
       "      <td>True</td>\n",
       "      <td>43.0</td>\n",
       "      <td>NaN</td>\n",
       "      <td>NaN</td>\n",
       "      <td>NaN</td>\n",
       "      <td>4.0</td>\n",
       "      <td>NaN</td>\n",
       "      <td>NaN</td>\n",
       "    </tr>\n",
       "    <tr>\n",
       "      <th>2</th>\n",
       "      <td>Brussels</td>\n",
       "      <td>APARTMENT</td>\n",
       "      <td>APARTMENT</td>\n",
       "      <td>485000</td>\n",
       "      <td>2</td>\n",
       "      <td>107.0</td>\n",
       "      <td>USA_HYPER_EQUIPPED</td>\n",
       "      <td>False</td>\n",
       "      <td>False</td>\n",
       "      <td>True</td>\n",
       "      <td>17.0</td>\n",
       "      <td>NaN</td>\n",
       "      <td>NaN</td>\n",
       "      <td>NaN</td>\n",
       "      <td>NaN</td>\n",
       "      <td>False</td>\n",
       "      <td>AS_NEW</td>\n",
       "    </tr>\n",
       "    <tr>\n",
       "      <th>3</th>\n",
       "      <td>Brussels</td>\n",
       "      <td>APARTMENT</td>\n",
       "      <td>DUPLEX</td>\n",
       "      <td>460000</td>\n",
       "      <td>3</td>\n",
       "      <td>147.0</td>\n",
       "      <td>USA_HYPER_EQUIPPED</td>\n",
       "      <td>False</td>\n",
       "      <td>False</td>\n",
       "      <td>True</td>\n",
       "      <td>52.0</td>\n",
       "      <td>NaN</td>\n",
       "      <td>NaN</td>\n",
       "      <td>NaN</td>\n",
       "      <td>2.0</td>\n",
       "      <td>NaN</td>\n",
       "      <td>NaN</td>\n",
       "    </tr>\n",
       "    <tr>\n",
       "      <th>4</th>\n",
       "      <td>Walloon Brabant</td>\n",
       "      <td>APARTMENT</td>\n",
       "      <td>APARTMENT</td>\n",
       "      <td>475000</td>\n",
       "      <td>3</td>\n",
       "      <td>115.0</td>\n",
       "      <td>NOT_INSTALLED</td>\n",
       "      <td>False</td>\n",
       "      <td>False</td>\n",
       "      <td>True</td>\n",
       "      <td>20.0</td>\n",
       "      <td>NaN</td>\n",
       "      <td>NaN</td>\n",
       "      <td>NaN</td>\n",
       "      <td>NaN</td>\n",
       "      <td>NaN</td>\n",
       "      <td>AS_NEW</td>\n",
       "    </tr>\n",
       "  </tbody>\n",
       "</table>\n",
       "</div>"
      ],
      "text/plain": [
       "          Province Type_of_property Subtype_of_property   Price  \\\n",
       "0         Brussels        APARTMENT           PENTHOUSE  450000   \n",
       "1         Brussels        APARTMENT           PENTHOUSE  450000   \n",
       "2         Brussels        APARTMENT           APARTMENT  485000   \n",
       "3         Brussels        APARTMENT              DUPLEX  460000   \n",
       "4  Walloon Brabant        APARTMENT           APARTMENT  475000   \n",
       "\n",
       "   Number_of_rooms  Living_Area Fully_equipped_kitchen Furnished  Open_fire  \\\n",
       "0                3        156.0     USA_HYPER_EQUIPPED     False      False   \n",
       "1                3        156.0     USA_HYPER_EQUIPPED     False      False   \n",
       "2                2        107.0     USA_HYPER_EQUIPPED     False      False   \n",
       "3                3        147.0     USA_HYPER_EQUIPPED     False      False   \n",
       "4                3        115.0          NOT_INSTALLED     False      False   \n",
       "\n",
       "  Terrace  Terrace_Area Garden  Garden_Area  Surface_area_of_the_plot_of_land  \\\n",
       "0    True          43.0    NaN          NaN                               NaN   \n",
       "1    True          43.0    NaN          NaN                               NaN   \n",
       "2    True          17.0    NaN          NaN                               NaN   \n",
       "3    True          52.0    NaN          NaN                               NaN   \n",
       "4    True          20.0    NaN          NaN                               NaN   \n",
       "\n",
       "   Number_of_facades Swimming_pool State_of_the_building  \n",
       "0                4.0           NaN                   NaN  \n",
       "1                4.0           NaN                   NaN  \n",
       "2                NaN         False                AS_NEW  \n",
       "3                2.0           NaN                   NaN  \n",
       "4                NaN           NaN                AS_NEW  "
      ]
     },
     "execution_count": 134,
     "metadata": {},
     "output_type": "execute_result"
    }
   ],
   "source": [
    "df.head()"
   ]
  },
  {
   "cell_type": "code",
   "execution_count": 135,
   "metadata": {},
   "outputs": [
    {
     "data": {
      "text/plain": [
       "(15005, 17)"
      ]
     },
     "execution_count": 135,
     "metadata": {},
     "output_type": "execute_result"
    }
   ],
   "source": [
    "df.shape"
   ]
  },
  {
   "cell_type": "code",
   "execution_count": 136,
   "metadata": {},
   "outputs": [],
   "source": [
    "df_ap=df[df.Type_of_property=='APARTMENT']\n",
    "df_house=df[df.Type_of_property=='HOUSE']"
   ]
  },
  {
   "attachments": {},
   "cell_type": "markdown",
   "metadata": {},
   "source": [
    "We start with apartments"
   ]
  },
  {
   "cell_type": "code",
   "execution_count": 137,
   "metadata": {},
   "outputs": [
    {
     "data": {
      "text/html": [
       "<div>\n",
       "<style scoped>\n",
       "    .dataframe tbody tr th:only-of-type {\n",
       "        vertical-align: middle;\n",
       "    }\n",
       "\n",
       "    .dataframe tbody tr th {\n",
       "        vertical-align: top;\n",
       "    }\n",
       "\n",
       "    .dataframe thead th {\n",
       "        text-align: right;\n",
       "    }\n",
       "</style>\n",
       "<table border=\"1\" class=\"dataframe\">\n",
       "  <thead>\n",
       "    <tr style=\"text-align: right;\">\n",
       "      <th></th>\n",
       "      <th>Province</th>\n",
       "      <th>Type_of_property</th>\n",
       "      <th>Subtype_of_property</th>\n",
       "      <th>Fully_equipped_kitchen</th>\n",
       "      <th>Furnished</th>\n",
       "      <th>Terrace</th>\n",
       "      <th>Garden</th>\n",
       "      <th>Swimming_pool</th>\n",
       "      <th>State_of_the_building</th>\n",
       "    </tr>\n",
       "  </thead>\n",
       "  <tbody>\n",
       "    <tr>\n",
       "      <th>count</th>\n",
       "      <td>6781</td>\n",
       "      <td>6781</td>\n",
       "      <td>6781</td>\n",
       "      <td>4847</td>\n",
       "      <td>5097</td>\n",
       "      <td>4871</td>\n",
       "      <td>1046</td>\n",
       "      <td>3920</td>\n",
       "      <td>4874</td>\n",
       "    </tr>\n",
       "    <tr>\n",
       "      <th>unique</th>\n",
       "      <td>11</td>\n",
       "      <td>1</td>\n",
       "      <td>9</td>\n",
       "      <td>8</td>\n",
       "      <td>2</td>\n",
       "      <td>1</td>\n",
       "      <td>1</td>\n",
       "      <td>2</td>\n",
       "      <td>6</td>\n",
       "    </tr>\n",
       "    <tr>\n",
       "      <th>top</th>\n",
       "      <td>West Flanders</td>\n",
       "      <td>APARTMENT</td>\n",
       "      <td>APARTMENT</td>\n",
       "      <td>INSTALLED</td>\n",
       "      <td>False</td>\n",
       "      <td>True</td>\n",
       "      <td>True</td>\n",
       "      <td>False</td>\n",
       "      <td>AS_NEW</td>\n",
       "    </tr>\n",
       "    <tr>\n",
       "      <th>freq</th>\n",
       "      <td>1565</td>\n",
       "      <td>6781</td>\n",
       "      <td>5169</td>\n",
       "      <td>2276</td>\n",
       "      <td>4821</td>\n",
       "      <td>4871</td>\n",
       "      <td>1046</td>\n",
       "      <td>3869</td>\n",
       "      <td>2311</td>\n",
       "    </tr>\n",
       "  </tbody>\n",
       "</table>\n",
       "</div>"
      ],
      "text/plain": [
       "             Province Type_of_property Subtype_of_property  \\\n",
       "count            6781             6781                6781   \n",
       "unique             11                1                   9   \n",
       "top     West Flanders        APARTMENT           APARTMENT   \n",
       "freq             1565             6781                5169   \n",
       "\n",
       "       Fully_equipped_kitchen Furnished Terrace Garden Swimming_pool  \\\n",
       "count                    4847      5097    4871   1046          3920   \n",
       "unique                      8         2       1      1             2   \n",
       "top                 INSTALLED     False    True   True         False   \n",
       "freq                     2276      4821    4871   1046          3869   \n",
       "\n",
       "       State_of_the_building  \n",
       "count                   4874  \n",
       "unique                     6  \n",
       "top                   AS_NEW  \n",
       "freq                    2311  "
      ]
     },
     "execution_count": 137,
     "metadata": {},
     "output_type": "execute_result"
    }
   ],
   "source": [
    "df_ap.describe(include=object)"
   ]
  },
  {
   "cell_type": "code",
   "execution_count": 138,
   "metadata": {},
   "outputs": [
    {
     "name": "stderr",
     "output_type": "stream",
     "text": [
      "C:\\Users\\nacit\\AppData\\Local\\Temp\\ipykernel_18328\\4097696308.py:1: SettingWithCopyWarning: \n",
      "A value is trying to be set on a copy of a slice from a DataFrame\n",
      "\n",
      "See the caveats in the documentation: https://pandas.pydata.org/pandas-docs/stable/user_guide/indexing.html#returning-a-view-versus-a-copy\n",
      "  df_ap.drop(columns=['Type_of_property','Swimming_pool', 'Surface_area_of_the_plot_of_land'], axis=1, inplace=True)\n"
     ]
    }
   ],
   "source": [
    "df_ap.drop(columns=['Type_of_property','Swimming_pool', 'Surface_area_of_the_plot_of_land'], axis=1, inplace=True)"
   ]
  },
  {
   "cell_type": "code",
   "execution_count": null,
   "metadata": {},
   "outputs": [],
   "source": []
  },
  {
   "cell_type": "code",
   "execution_count": 139,
   "metadata": {},
   "outputs": [
    {
     "data": {
      "text/html": [
       "<div>\n",
       "<style scoped>\n",
       "    .dataframe tbody tr th:only-of-type {\n",
       "        vertical-align: middle;\n",
       "    }\n",
       "\n",
       "    .dataframe tbody tr th {\n",
       "        vertical-align: top;\n",
       "    }\n",
       "\n",
       "    .dataframe thead th {\n",
       "        text-align: right;\n",
       "    }\n",
       "</style>\n",
       "<table border=\"1\" class=\"dataframe\">\n",
       "  <thead>\n",
       "    <tr style=\"text-align: right;\">\n",
       "      <th></th>\n",
       "      <th>Province</th>\n",
       "      <th>Subtype_of_property</th>\n",
       "      <th>Price</th>\n",
       "      <th>Number_of_rooms</th>\n",
       "      <th>Living_Area</th>\n",
       "      <th>Fully_equipped_kitchen</th>\n",
       "      <th>Furnished</th>\n",
       "      <th>Open_fire</th>\n",
       "      <th>Terrace</th>\n",
       "      <th>Terrace_Area</th>\n",
       "      <th>Garden</th>\n",
       "      <th>Garden_Area</th>\n",
       "      <th>Number_of_facades</th>\n",
       "      <th>State_of_the_building</th>\n",
       "    </tr>\n",
       "  </thead>\n",
       "  <tbody>\n",
       "    <tr>\n",
       "      <th>0</th>\n",
       "      <td>Brussels</td>\n",
       "      <td>PENTHOUSE</td>\n",
       "      <td>450000</td>\n",
       "      <td>3</td>\n",
       "      <td>156.0</td>\n",
       "      <td>USA_HYPER_EQUIPPED</td>\n",
       "      <td>False</td>\n",
       "      <td>False</td>\n",
       "      <td>True</td>\n",
       "      <td>43.0</td>\n",
       "      <td>NaN</td>\n",
       "      <td>NaN</td>\n",
       "      <td>4.0</td>\n",
       "      <td>NaN</td>\n",
       "    </tr>\n",
       "    <tr>\n",
       "      <th>1</th>\n",
       "      <td>Brussels</td>\n",
       "      <td>PENTHOUSE</td>\n",
       "      <td>450000</td>\n",
       "      <td>3</td>\n",
       "      <td>156.0</td>\n",
       "      <td>USA_HYPER_EQUIPPED</td>\n",
       "      <td>False</td>\n",
       "      <td>False</td>\n",
       "      <td>True</td>\n",
       "      <td>43.0</td>\n",
       "      <td>NaN</td>\n",
       "      <td>NaN</td>\n",
       "      <td>4.0</td>\n",
       "      <td>NaN</td>\n",
       "    </tr>\n",
       "    <tr>\n",
       "      <th>2</th>\n",
       "      <td>Brussels</td>\n",
       "      <td>APARTMENT</td>\n",
       "      <td>485000</td>\n",
       "      <td>2</td>\n",
       "      <td>107.0</td>\n",
       "      <td>USA_HYPER_EQUIPPED</td>\n",
       "      <td>False</td>\n",
       "      <td>False</td>\n",
       "      <td>True</td>\n",
       "      <td>17.0</td>\n",
       "      <td>NaN</td>\n",
       "      <td>NaN</td>\n",
       "      <td>NaN</td>\n",
       "      <td>AS_NEW</td>\n",
       "    </tr>\n",
       "    <tr>\n",
       "      <th>3</th>\n",
       "      <td>Brussels</td>\n",
       "      <td>DUPLEX</td>\n",
       "      <td>460000</td>\n",
       "      <td>3</td>\n",
       "      <td>147.0</td>\n",
       "      <td>USA_HYPER_EQUIPPED</td>\n",
       "      <td>False</td>\n",
       "      <td>False</td>\n",
       "      <td>True</td>\n",
       "      <td>52.0</td>\n",
       "      <td>NaN</td>\n",
       "      <td>NaN</td>\n",
       "      <td>2.0</td>\n",
       "      <td>NaN</td>\n",
       "    </tr>\n",
       "    <tr>\n",
       "      <th>4</th>\n",
       "      <td>Walloon Brabant</td>\n",
       "      <td>APARTMENT</td>\n",
       "      <td>475000</td>\n",
       "      <td>3</td>\n",
       "      <td>115.0</td>\n",
       "      <td>NOT_INSTALLED</td>\n",
       "      <td>False</td>\n",
       "      <td>False</td>\n",
       "      <td>True</td>\n",
       "      <td>20.0</td>\n",
       "      <td>NaN</td>\n",
       "      <td>NaN</td>\n",
       "      <td>NaN</td>\n",
       "      <td>AS_NEW</td>\n",
       "    </tr>\n",
       "  </tbody>\n",
       "</table>\n",
       "</div>"
      ],
      "text/plain": [
       "          Province Subtype_of_property   Price  Number_of_rooms  Living_Area  \\\n",
       "0         Brussels           PENTHOUSE  450000                3        156.0   \n",
       "1         Brussels           PENTHOUSE  450000                3        156.0   \n",
       "2         Brussels           APARTMENT  485000                2        107.0   \n",
       "3         Brussels              DUPLEX  460000                3        147.0   \n",
       "4  Walloon Brabant           APARTMENT  475000                3        115.0   \n",
       "\n",
       "  Fully_equipped_kitchen Furnished  Open_fire Terrace  Terrace_Area Garden  \\\n",
       "0     USA_HYPER_EQUIPPED     False      False    True          43.0    NaN   \n",
       "1     USA_HYPER_EQUIPPED     False      False    True          43.0    NaN   \n",
       "2     USA_HYPER_EQUIPPED     False      False    True          17.0    NaN   \n",
       "3     USA_HYPER_EQUIPPED     False      False    True          52.0    NaN   \n",
       "4          NOT_INSTALLED     False      False    True          20.0    NaN   \n",
       "\n",
       "   Garden_Area  Number_of_facades State_of_the_building  \n",
       "0          NaN                4.0                   NaN  \n",
       "1          NaN                4.0                   NaN  \n",
       "2          NaN                NaN                AS_NEW  \n",
       "3          NaN                2.0                   NaN  \n",
       "4          NaN                NaN                AS_NEW  "
      ]
     },
     "execution_count": 139,
     "metadata": {},
     "output_type": "execute_result"
    }
   ],
   "source": [
    "df_ap.head()"
   ]
  },
  {
   "cell_type": "code",
   "execution_count": 140,
   "metadata": {},
   "outputs": [
    {
     "name": "stderr",
     "output_type": "stream",
     "text": [
      "C:\\Users\\nacit\\AppData\\Local\\Temp\\ipykernel_18328\\1049142469.py:1: FutureWarning: The default value of numeric_only in DataFrame.corr is deprecated. In a future version, it will default to False. Select only valid columns or specify the value of numeric_only to silence this warning.\n",
      "  corr=df_ap.corr()\n"
     ]
    },
    {
     "data": {
      "text/plain": [
       "Price                1.000000\n",
       "Number_of_rooms      0.419843\n",
       "Living_Area          0.175046\n",
       "Open_fire            0.096877\n",
       "Terrace_Area         0.260947\n",
       "Garden_Area         -0.094942\n",
       "Number_of_facades    0.026987\n",
       "Name: Price, dtype: float64"
      ]
     },
     "execution_count": 140,
     "metadata": {},
     "output_type": "execute_result"
    }
   ],
   "source": [
    "corr=df_ap.corr()\n",
    "corr.Price \n",
    "\n"
   ]
  },
  {
   "attachments": {},
   "cell_type": "markdown",
   "metadata": {},
   "source": [
    "According to our correlations we will keep the following columns: Number_of_rooms, Living_Area, Terrace_Area. We keep the values which have a high correlation. For the categorical values, we can't calculate the correlation. We will try another approach. \n",
    "To determine the correlation between a categorical variable (such as Province) and a numerical variable (such as Price) using a technique called chi-squared test for independence"
   ]
  },
  {
   "cell_type": "code",
   "execution_count": 141,
   "metadata": {},
   "outputs": [
    {
     "name": "stdout",
     "output_type": "stream",
     "text": [
      "2.2858065600809354e-140\n"
     ]
    }
   ],
   "source": [
    "from scipy.stats import chi2_contingency\n",
    "\n",
    "# Create a contingency table\n",
    "contingency_table = pd.crosstab(df_ap['Province'], df_ap['Price'])\n",
    "\n",
    "# Calculate the chi-squared test for independence\n",
    "stat, p, dof, expected = chi2_contingency(contingency_table, correction=False)\n",
    "\n",
    "#print p-value\n",
    "print(p)"
   ]
  },
  {
   "attachments": {},
   "cell_type": "markdown",
   "metadata": {},
   "source": [
    "The p-value is very small (<0.05) and says that the probability of this distribution in case of no association between the two variables is almost 0. This is hence a feature we would like to keep. Let's do the same for "
   ]
  },
  {
   "cell_type": "code",
   "execution_count": 142,
   "metadata": {},
   "outputs": [
    {
     "name": "stdout",
     "output_type": "stream",
     "text": [
      "0.047686502540815606\n"
     ]
    }
   ],
   "source": [
    "# Create a contingency table\n",
    "contingency_table3 = pd.crosstab(df_ap['Fully_equipped_kitchen'], df_ap['Price'])\n",
    "\n",
    "# Calculate the chi-squared test for independence\n",
    "stat3, p3, dof3, expected3 = chi2_contingency(contingency_table3, correction=False)\n",
    "\n",
    "#print p-value\n",
    "print(p3)"
   ]
  },
  {
   "attachments": {},
   "cell_type": "markdown",
   "metadata": {},
   "source": [
    "We can say that this is significant too and hence we'll use this feature in our dataset. "
   ]
  },
  {
   "attachments": {},
   "cell_type": "markdown",
   "metadata": {},
   "source": [
    "Lastly we'll have a look on subtype of property: \n"
   ]
  },
  {
   "cell_type": "code",
   "execution_count": 143,
   "metadata": {},
   "outputs": [
    {
     "name": "stdout",
     "output_type": "stream",
     "text": [
      "1.0836869765712786e-28\n"
     ]
    }
   ],
   "source": [
    "# Create a contingency table\n",
    "contingency_table4 = pd.crosstab(df_ap['Subtype_of_property'], df_ap['Price'])\n",
    "\n",
    "# Calculate the chi-squared test for independence\n",
    "stat4, p4, dof4, expected4 = chi2_contingency(contingency_table4, correction=False)\n",
    "\n",
    "#print p-value\n",
    "print(p4)"
   ]
  },
  {
   "attachments": {},
   "cell_type": "markdown",
   "metadata": {},
   "source": [
    "PART 2: PREPROCESSING"
   ]
  },
  {
   "cell_type": "code",
   "execution_count": 144,
   "metadata": {},
   "outputs": [],
   "source": [
    "columns_to_keep = ['Price','Subtype_of_property','Province','Number_of_rooms','Terrace_Area','Living_Area','Fully_equipped_kitchen']\n",
    "df_ap=df_ap[columns_to_keep]"
   ]
  },
  {
   "cell_type": "code",
   "execution_count": 145,
   "metadata": {},
   "outputs": [
    {
     "data": {
      "text/html": [
       "<div>\n",
       "<style scoped>\n",
       "    .dataframe tbody tr th:only-of-type {\n",
       "        vertical-align: middle;\n",
       "    }\n",
       "\n",
       "    .dataframe tbody tr th {\n",
       "        vertical-align: top;\n",
       "    }\n",
       "\n",
       "    .dataframe thead th {\n",
       "        text-align: right;\n",
       "    }\n",
       "</style>\n",
       "<table border=\"1\" class=\"dataframe\">\n",
       "  <thead>\n",
       "    <tr style=\"text-align: right;\">\n",
       "      <th></th>\n",
       "      <th>Price</th>\n",
       "      <th>Subtype_of_property</th>\n",
       "      <th>Province</th>\n",
       "      <th>Number_of_rooms</th>\n",
       "      <th>Terrace_Area</th>\n",
       "      <th>Living_Area</th>\n",
       "      <th>Fully_equipped_kitchen</th>\n",
       "    </tr>\n",
       "  </thead>\n",
       "  <tbody>\n",
       "    <tr>\n",
       "      <th>0</th>\n",
       "      <td>450000</td>\n",
       "      <td>PENTHOUSE</td>\n",
       "      <td>Brussels</td>\n",
       "      <td>3</td>\n",
       "      <td>43.0</td>\n",
       "      <td>156.0</td>\n",
       "      <td>USA_HYPER_EQUIPPED</td>\n",
       "    </tr>\n",
       "    <tr>\n",
       "      <th>1</th>\n",
       "      <td>450000</td>\n",
       "      <td>PENTHOUSE</td>\n",
       "      <td>Brussels</td>\n",
       "      <td>3</td>\n",
       "      <td>43.0</td>\n",
       "      <td>156.0</td>\n",
       "      <td>USA_HYPER_EQUIPPED</td>\n",
       "    </tr>\n",
       "    <tr>\n",
       "      <th>2</th>\n",
       "      <td>485000</td>\n",
       "      <td>APARTMENT</td>\n",
       "      <td>Brussels</td>\n",
       "      <td>2</td>\n",
       "      <td>17.0</td>\n",
       "      <td>107.0</td>\n",
       "      <td>USA_HYPER_EQUIPPED</td>\n",
       "    </tr>\n",
       "    <tr>\n",
       "      <th>3</th>\n",
       "      <td>460000</td>\n",
       "      <td>DUPLEX</td>\n",
       "      <td>Brussels</td>\n",
       "      <td>3</td>\n",
       "      <td>52.0</td>\n",
       "      <td>147.0</td>\n",
       "      <td>USA_HYPER_EQUIPPED</td>\n",
       "    </tr>\n",
       "    <tr>\n",
       "      <th>4</th>\n",
       "      <td>475000</td>\n",
       "      <td>APARTMENT</td>\n",
       "      <td>Walloon Brabant</td>\n",
       "      <td>3</td>\n",
       "      <td>20.0</td>\n",
       "      <td>115.0</td>\n",
       "      <td>NOT_INSTALLED</td>\n",
       "    </tr>\n",
       "  </tbody>\n",
       "</table>\n",
       "</div>"
      ],
      "text/plain": [
       "    Price Subtype_of_property         Province  Number_of_rooms  Terrace_Area  \\\n",
       "0  450000           PENTHOUSE         Brussels                3          43.0   \n",
       "1  450000           PENTHOUSE         Brussels                3          43.0   \n",
       "2  485000           APARTMENT         Brussels                2          17.0   \n",
       "3  460000              DUPLEX         Brussels                3          52.0   \n",
       "4  475000           APARTMENT  Walloon Brabant                3          20.0   \n",
       "\n",
       "   Living_Area Fully_equipped_kitchen  \n",
       "0        156.0     USA_HYPER_EQUIPPED  \n",
       "1        156.0     USA_HYPER_EQUIPPED  \n",
       "2        107.0     USA_HYPER_EQUIPPED  \n",
       "3        147.0     USA_HYPER_EQUIPPED  \n",
       "4        115.0          NOT_INSTALLED  "
      ]
     },
     "execution_count": 145,
     "metadata": {},
     "output_type": "execute_result"
    }
   ],
   "source": [
    "df_ap.head()"
   ]
  },
  {
   "cell_type": "code",
   "execution_count": 146,
   "metadata": {},
   "outputs": [
    {
     "data": {
      "text/plain": [
       "Price                        0\n",
       "Subtype_of_property          0\n",
       "Province                     0\n",
       "Number_of_rooms              0\n",
       "Terrace_Area              3046\n",
       "Living_Area                335\n",
       "Fully_equipped_kitchen    1934\n",
       "dtype: int64"
      ]
     },
     "execution_count": 146,
     "metadata": {},
     "output_type": "execute_result"
    }
   ],
   "source": [
    "df_ap.isnull().sum()"
   ]
  },
  {
   "cell_type": "code",
   "execution_count": 13,
   "metadata": {},
   "outputs": [],
   "source": [
    "#df_ap.to_csv(\"test.csv\")"
   ]
  },
  {
   "attachments": {},
   "cell_type": "markdown",
   "metadata": {},
   "source": [
    "We first want to deal with the missing values for Living area, fully equipped kitchen and terrace area. "
   ]
  },
  {
   "attachments": {},
   "cell_type": "markdown",
   "metadata": {},
   "source": []
  },
  {
   "cell_type": "code",
   "execution_count": 44,
   "metadata": {},
   "outputs": [
    {
     "data": {
      "text/plain": [
       "2     3538\n",
       "1     1437\n",
       "3     1426\n",
       "4      159\n",
       "0      155\n",
       "5       38\n",
       "6       16\n",
       "7        3\n",
       "8        3\n",
       "10       3\n",
       "9        2\n",
       "15       1\n",
       "Name: Number_of_rooms, dtype: int64"
      ]
     },
     "execution_count": 44,
     "metadata": {},
     "output_type": "execute_result"
    }
   ],
   "source": [
    "df_ap.Number_of_rooms.value_counts()"
   ]
  },
  {
   "attachments": {},
   "cell_type": "markdown",
   "metadata": {},
   "source": [
    "We consider only ap till 6 bedrooms.   (ENTER IN LIMITATION) WRITE A FUNCTION TO DO THINGS IN AN EFFICIENT WAY"
   ]
  },
  {
   "cell_type": "code",
   "execution_count": 147,
   "metadata": {},
   "outputs": [
    {
     "name": "stderr",
     "output_type": "stream",
     "text": [
      "C:\\Users\\nacit\\AppData\\Local\\Temp\\ipykernel_18328\\3437916107.py:1: UserWarning: Boolean Series key will be reindexed to match DataFrame index.\n",
      "  df_ap=df_ap[df.Number_of_rooms<7]\n"
     ]
    }
   ],
   "source": [
    "df_ap=df_ap[df.Number_of_rooms<7]"
   ]
  },
  {
   "cell_type": "code",
   "execution_count": 148,
   "metadata": {},
   "outputs": [
    {
     "data": {
      "text/plain": [
       "Price                        0\n",
       "Subtype_of_property          0\n",
       "Province                     0\n",
       "Number_of_rooms              0\n",
       "Terrace_Area              3037\n",
       "Living_Area                333\n",
       "Fully_equipped_kitchen    1927\n",
       "dtype: int64"
      ]
     },
     "execution_count": 148,
     "metadata": {},
     "output_type": "execute_result"
    }
   ],
   "source": [
    "df_ap.isnull().sum()"
   ]
  },
  {
   "cell_type": "code",
   "execution_count": 65,
   "metadata": {},
   "outputs": [
    {
     "data": {
      "text/plain": [
       "Price                        0\n",
       "Subtype_of_property          0\n",
       "Province                     0\n",
       "Number_of_rooms              0\n",
       "Terrace_Area              3037\n",
       "Living_Area                333\n",
       "Fully_equipped_kitchen    1927\n",
       "dtype: int64"
      ]
     },
     "execution_count": 65,
     "metadata": {},
     "output_type": "execute_result"
    }
   ],
   "source": [
    "df_ap.isnull().sum()"
   ]
  },
  {
   "cell_type": "code",
   "execution_count": 149,
   "metadata": {},
   "outputs": [],
   "source": [
    "# fill missing values in Living_Area column with value depending on BEDROOMS column\n",
    "\n",
    "df_ap['Living_Area'] = df_ap['Living_Area'].fillna(df_ap.groupby('Number_of_rooms')['Living_Area'].transform('mean'))\n",
    "\n"
   ]
  },
  {
   "cell_type": "code",
   "execution_count": 150,
   "metadata": {},
   "outputs": [],
   "source": [
    "df_ap['Living_Area']=df_ap['Living_Area'].astype(int)"
   ]
  },
  {
   "cell_type": "code",
   "execution_count": 151,
   "metadata": {},
   "outputs": [
    {
     "data": {
      "text/plain": [
       "Price                        0\n",
       "Subtype_of_property          0\n",
       "Province                     0\n",
       "Number_of_rooms              0\n",
       "Terrace_Area              3037\n",
       "Living_Area                  0\n",
       "Fully_equipped_kitchen    1927\n",
       "dtype: int64"
      ]
     },
     "execution_count": 151,
     "metadata": {},
     "output_type": "execute_result"
    }
   ],
   "source": [
    "df_ap.isnull().sum()"
   ]
  },
  {
   "cell_type": "code",
   "execution_count": 71,
   "metadata": {},
   "outputs": [
    {
     "data": {
      "text/plain": [
       "Price                       int64\n",
       "Subtype_of_property        object\n",
       "Province                   object\n",
       "Number_of_rooms             int64\n",
       "Terrace_Area              float64\n",
       "Living_Area                 int32\n",
       "Fully_equipped_kitchen     object\n",
       "dtype: object"
      ]
     },
     "execution_count": 71,
     "metadata": {},
     "output_type": "execute_result"
    }
   ],
   "source": [
    "df_ap.dtypes"
   ]
  },
  {
   "cell_type": "code",
   "execution_count": 72,
   "metadata": {},
   "outputs": [],
   "source": [
    "df_ap.to_csv(\"test2.csv\")\n",
    "\n",
    "#controle OK"
   ]
  },
  {
   "attachments": {},
   "cell_type": "markdown",
   "metadata": {},
   "source": [
    "When making such changes it's always advises to check your values back. I had some problems before converting to integers."
   ]
  },
  {
   "cell_type": "code",
   "execution_count": 34,
   "metadata": {},
   "outputs": [
    {
     "name": "stderr",
     "output_type": "stream",
     "text": [
      "C:\\Users\\nacit\\AppData\\Local\\Temp\\ipykernel_18328\\2078779259.py:1: FutureWarning: The default value of numeric_only in DataFrameGroupBy.mean is deprecated. In a future version, numeric_only will default to False. Either specify numeric_only or select only columns which should be valid for the function.\n",
      "  df_ap.groupby('Number_of_rooms').mean()\n"
     ]
    },
    {
     "data": {
      "text/html": [
       "<div>\n",
       "<style scoped>\n",
       "    .dataframe tbody tr th:only-of-type {\n",
       "        vertical-align: middle;\n",
       "    }\n",
       "\n",
       "    .dataframe tbody tr th {\n",
       "        vertical-align: top;\n",
       "    }\n",
       "\n",
       "    .dataframe thead th {\n",
       "        text-align: right;\n",
       "    }\n",
       "</style>\n",
       "<table border=\"1\" class=\"dataframe\">\n",
       "  <thead>\n",
       "    <tr style=\"text-align: right;\">\n",
       "      <th></th>\n",
       "      <th>Price</th>\n",
       "      <th>Terrace_Area</th>\n",
       "      <th>Living_Area</th>\n",
       "    </tr>\n",
       "    <tr>\n",
       "      <th>Number_of_rooms</th>\n",
       "      <th></th>\n",
       "      <th></th>\n",
       "      <th></th>\n",
       "    </tr>\n",
       "  </thead>\n",
       "  <tbody>\n",
       "    <tr>\n",
       "      <th>0</th>\n",
       "      <td>216278.496774</td>\n",
       "      <td>10.400000</td>\n",
       "      <td>57.328767</td>\n",
       "    </tr>\n",
       "    <tr>\n",
       "      <th>1</th>\n",
       "      <td>233110.444676</td>\n",
       "      <td>13.367164</td>\n",
       "      <td>66.471408</td>\n",
       "    </tr>\n",
       "    <tr>\n",
       "      <th>2</th>\n",
       "      <td>331931.755229</td>\n",
       "      <td>18.033898</td>\n",
       "      <td>104.002081</td>\n",
       "    </tr>\n",
       "    <tr>\n",
       "      <th>3</th>\n",
       "      <td>444113.645161</td>\n",
       "      <td>25.239560</td>\n",
       "      <td>140.143800</td>\n",
       "    </tr>\n",
       "    <tr>\n",
       "      <th>4</th>\n",
       "      <td>487118.408805</td>\n",
       "      <td>30.891566</td>\n",
       "      <td>190.039474</td>\n",
       "    </tr>\n",
       "    <tr>\n",
       "      <th>5</th>\n",
       "      <td>533973.684211</td>\n",
       "      <td>41.583333</td>\n",
       "      <td>260.027027</td>\n",
       "    </tr>\n",
       "    <tr>\n",
       "      <th>6</th>\n",
       "      <td>563231.250000</td>\n",
       "      <td>80.000000</td>\n",
       "      <td>262.272727</td>\n",
       "    </tr>\n",
       "  </tbody>\n",
       "</table>\n",
       "</div>"
      ],
      "text/plain": [
       "                         Price  Terrace_Area  Living_Area\n",
       "Number_of_rooms                                          \n",
       "0                216278.496774     10.400000    57.328767\n",
       "1                233110.444676     13.367164    66.471408\n",
       "2                331931.755229     18.033898   104.002081\n",
       "3                444113.645161     25.239560   140.143800\n",
       "4                487118.408805     30.891566   190.039474\n",
       "5                533973.684211     41.583333   260.027027\n",
       "6                563231.250000     80.000000   262.272727"
      ]
     },
     "execution_count": 34,
     "metadata": {},
     "output_type": "execute_result"
    }
   ],
   "source": [
    "#df_ap.groupby('Number_of_rooms').mean()"
   ]
  },
  {
   "attachments": {},
   "cell_type": "markdown",
   "metadata": {},
   "source": [
    "For the living area we suppose there is no terrace so we change the value by 0. "
   ]
  },
  {
   "cell_type": "code",
   "execution_count": 152,
   "metadata": {},
   "outputs": [],
   "source": [
    "df_ap['Terrace_Area'].fillna(0, inplace=True)\n",
    "df_ap['Terrace_Area']=df_ap['Terrace_Area'].astype(int)"
   ]
  },
  {
   "cell_type": "code",
   "execution_count": 186,
   "metadata": {},
   "outputs": [
    {
     "data": {
      "text/plain": [
       "Price                     0\n",
       "Subtype_of_property       0\n",
       "Province                  0\n",
       "Number_of_rooms           0\n",
       "Terrace_Area              0\n",
       "Living_Area               0\n",
       "Fully_equipped_kitchen    0\n",
       "dtype: int64"
      ]
     },
     "execution_count": 186,
     "metadata": {},
     "output_type": "execute_result"
    }
   ],
   "source": [
    "df_ap.isnull().sum()"
   ]
  },
  {
   "cell_type": "code",
   "execution_count": 187,
   "metadata": {},
   "outputs": [
    {
     "data": {
      "text/plain": [
       "INSTALLED             2274\n",
       "0                     1927\n",
       "HYPER_EQUIPPED        1149\n",
       "USA_HYPER_EQUIPPED     623\n",
       "SEMI_EQUIPPED          370\n",
       "NOT_INSTALLED          198\n",
       "USA_INSTALLED          180\n",
       "USA_SEMI_EQUIPPED       44\n",
       "USA_UNINSTALLED          4\n",
       "Name: Fully_equipped_kitchen, dtype: int64"
      ]
     },
     "execution_count": 187,
     "metadata": {},
     "output_type": "execute_result"
    }
   ],
   "source": [
    "df_ap.Fully_equipped_kitchen.value_counts()"
   ]
  },
  {
   "attachments": {},
   "cell_type": "markdown",
   "metadata": {},
   "source": [
    "We see there are not many USA_type kitchens. We can add them together to categorize it better: \n",
    "\n"
   ]
  },
  {
   "cell_type": "code",
   "execution_count": 188,
   "metadata": {},
   "outputs": [
    {
     "data": {
      "text/html": [
       "<div>\n",
       "<style scoped>\n",
       "    .dataframe tbody tr th:only-of-type {\n",
       "        vertical-align: middle;\n",
       "    }\n",
       "\n",
       "    .dataframe tbody tr th {\n",
       "        vertical-align: top;\n",
       "    }\n",
       "\n",
       "    .dataframe thead th {\n",
       "        text-align: right;\n",
       "    }\n",
       "</style>\n",
       "<table border=\"1\" class=\"dataframe\">\n",
       "  <thead>\n",
       "    <tr style=\"text-align: right;\">\n",
       "      <th></th>\n",
       "      <th>Price</th>\n",
       "      <th>Subtype_of_property</th>\n",
       "      <th>Province</th>\n",
       "      <th>Number_of_rooms</th>\n",
       "      <th>Terrace_Area</th>\n",
       "      <th>Living_Area</th>\n",
       "      <th>Fully_equipped_kitchen</th>\n",
       "    </tr>\n",
       "  </thead>\n",
       "  <tbody>\n",
       "    <tr>\n",
       "      <th>0</th>\n",
       "      <td>450000</td>\n",
       "      <td>PENTHOUSE</td>\n",
       "      <td>Brussels</td>\n",
       "      <td>3</td>\n",
       "      <td>43</td>\n",
       "      <td>156</td>\n",
       "      <td>USA_HYPER_EQUIPPED</td>\n",
       "    </tr>\n",
       "    <tr>\n",
       "      <th>1</th>\n",
       "      <td>450000</td>\n",
       "      <td>PENTHOUSE</td>\n",
       "      <td>Brussels</td>\n",
       "      <td>3</td>\n",
       "      <td>43</td>\n",
       "      <td>156</td>\n",
       "      <td>USA_HYPER_EQUIPPED</td>\n",
       "    </tr>\n",
       "    <tr>\n",
       "      <th>2</th>\n",
       "      <td>485000</td>\n",
       "      <td>APARTMENT</td>\n",
       "      <td>Brussels</td>\n",
       "      <td>2</td>\n",
       "      <td>17</td>\n",
       "      <td>107</td>\n",
       "      <td>USA_HYPER_EQUIPPED</td>\n",
       "    </tr>\n",
       "    <tr>\n",
       "      <th>3</th>\n",
       "      <td>460000</td>\n",
       "      <td>DUPLEX</td>\n",
       "      <td>Brussels</td>\n",
       "      <td>3</td>\n",
       "      <td>52</td>\n",
       "      <td>147</td>\n",
       "      <td>USA_HYPER_EQUIPPED</td>\n",
       "    </tr>\n",
       "    <tr>\n",
       "      <th>4</th>\n",
       "      <td>475000</td>\n",
       "      <td>APARTMENT</td>\n",
       "      <td>Walloon Brabant</td>\n",
       "      <td>3</td>\n",
       "      <td>20</td>\n",
       "      <td>115</td>\n",
       "      <td>NOT_INSTALLED</td>\n",
       "    </tr>\n",
       "  </tbody>\n",
       "</table>\n",
       "</div>"
      ],
      "text/plain": [
       "    Price Subtype_of_property         Province  Number_of_rooms  Terrace_Area  \\\n",
       "0  450000           PENTHOUSE         Brussels                3            43   \n",
       "1  450000           PENTHOUSE         Brussels                3            43   \n",
       "2  485000           APARTMENT         Brussels                2            17   \n",
       "3  460000              DUPLEX         Brussels                3            52   \n",
       "4  475000           APARTMENT  Walloon Brabant                3            20   \n",
       "\n",
       "   Living_Area Fully_equipped_kitchen  \n",
       "0          156     USA_HYPER_EQUIPPED  \n",
       "1          156     USA_HYPER_EQUIPPED  \n",
       "2          107     USA_HYPER_EQUIPPED  \n",
       "3          147     USA_HYPER_EQUIPPED  \n",
       "4          115          NOT_INSTALLED  "
      ]
     },
     "execution_count": 188,
     "metadata": {},
     "output_type": "execute_result"
    }
   ],
   "source": [
    "df_ap.head()"
   ]
  },
  {
   "cell_type": "code",
   "execution_count": 189,
   "metadata": {},
   "outputs": [],
   "source": [
    "df_ap = df_ap.replace({\"Fully_equipped_kitchen\":{\"NOT_INSTALLED\": 0, \"INSTALLED\": 1, \"SEMI_EQUIPPED\": 2, \"HYPER_EQUIPPED\": 3, \"USA_UNINSTALLED\": 0, \"USA_INSTALLED\": 1, \"USA_SEMI_EQUIPPED\": 2, \"USA_HYPER_EQUIPPED\": 3}})"
   ]
  },
  {
   "cell_type": "code",
   "execution_count": null,
   "metadata": {},
   "outputs": [],
   "source": []
  },
  {
   "cell_type": "code",
   "execution_count": 191,
   "metadata": {},
   "outputs": [],
   "source": [
    "df_ap[\"Fully_equipped_kitchen\"].fillna(0, inplace=True)"
   ]
  },
  {
   "cell_type": "code",
   "execution_count": 193,
   "metadata": {},
   "outputs": [
    {
     "name": "stdout",
     "output_type": "stream",
     "text": [
      "0.047686502540815606\n"
     ]
    }
   ],
   "source": [
    "# Create a contingency table\n",
    "contingency_table5 = pd.crosstab(df_ap['Fully_equipped_kitchen'], df_ap['Price'])\n",
    "\n",
    "# Calculate the chi-squared test for independence\n",
    "stat5, p5, dof5, expected5 = chi2_contingency(contingency_table5, correction=False)\n",
    "\n",
    "#print p-value\n",
    "print(p3)"
   ]
  },
  {
   "cell_type": "code",
   "execution_count": 192,
   "metadata": {},
   "outputs": [
    {
     "data": {
      "text/plain": [
       "Price                     0\n",
       "Subtype_of_property       0\n",
       "Province                  0\n",
       "Number_of_rooms           0\n",
       "Terrace_Area              0\n",
       "Living_Area               0\n",
       "Fully_equipped_kitchen    0\n",
       "dtype: int64"
      ]
     },
     "execution_count": 192,
     "metadata": {},
     "output_type": "execute_result"
    }
   ],
   "source": [
    "df_ap.isnull().sum()"
   ]
  },
  {
   "attachments": {},
   "cell_type": "markdown",
   "metadata": {},
   "source": [
    "PART 3: MODEL SELECTION? "
   ]
  },
  {
   "cell_type": "code",
   "execution_count": 195,
   "metadata": {},
   "outputs": [],
   "source": [
    "X=df_ap.drop('Price', axis=1)\n",
    "y=df_ap['Price']"
   ]
  },
  {
   "cell_type": "code",
   "execution_count": 196,
   "metadata": {},
   "outputs": [],
   "source": [
    "# Get the columns name\n",
    "columns_name = ['Subtype_of_property','Province']\n",
    "# Label encode them\n",
    "X = pd.get_dummies(X, columns=columns_name, prefix=columns_name, drop_first=False)"
   ]
  },
  {
   "cell_type": "code",
   "execution_count": 197,
   "metadata": {},
   "outputs": [
    {
     "data": {
      "text/html": [
       "<div>\n",
       "<style scoped>\n",
       "    .dataframe tbody tr th:only-of-type {\n",
       "        vertical-align: middle;\n",
       "    }\n",
       "\n",
       "    .dataframe tbody tr th {\n",
       "        vertical-align: top;\n",
       "    }\n",
       "\n",
       "    .dataframe thead th {\n",
       "        text-align: right;\n",
       "    }\n",
       "</style>\n",
       "<table border=\"1\" class=\"dataframe\">\n",
       "  <thead>\n",
       "    <tr style=\"text-align: right;\">\n",
       "      <th></th>\n",
       "      <th>Number_of_rooms</th>\n",
       "      <th>Terrace_Area</th>\n",
       "      <th>Living_Area</th>\n",
       "      <th>Fully_equipped_kitchen</th>\n",
       "      <th>Subtype_of_property_APARTMENT</th>\n",
       "      <th>Subtype_of_property_DUPLEX</th>\n",
       "      <th>Subtype_of_property_FLAT_STUDIO</th>\n",
       "      <th>Subtype_of_property_GROUND_FLOOR</th>\n",
       "      <th>Subtype_of_property_KOT</th>\n",
       "      <th>Subtype_of_property_LOFT</th>\n",
       "      <th>...</th>\n",
       "      <th>Province_Brussels</th>\n",
       "      <th>Province_East Flanders</th>\n",
       "      <th>Province_Flemish Brabant</th>\n",
       "      <th>Province_Hainaut</th>\n",
       "      <th>Province_Limburg</th>\n",
       "      <th>Province_Liège</th>\n",
       "      <th>Province_Luxembourg</th>\n",
       "      <th>Province_Namur</th>\n",
       "      <th>Province_Walloon Brabant</th>\n",
       "      <th>Province_West Flanders</th>\n",
       "    </tr>\n",
       "  </thead>\n",
       "  <tbody>\n",
       "    <tr>\n",
       "      <th>0</th>\n",
       "      <td>3</td>\n",
       "      <td>43</td>\n",
       "      <td>156</td>\n",
       "      <td>3</td>\n",
       "      <td>0</td>\n",
       "      <td>0</td>\n",
       "      <td>0</td>\n",
       "      <td>0</td>\n",
       "      <td>0</td>\n",
       "      <td>0</td>\n",
       "      <td>...</td>\n",
       "      <td>1</td>\n",
       "      <td>0</td>\n",
       "      <td>0</td>\n",
       "      <td>0</td>\n",
       "      <td>0</td>\n",
       "      <td>0</td>\n",
       "      <td>0</td>\n",
       "      <td>0</td>\n",
       "      <td>0</td>\n",
       "      <td>0</td>\n",
       "    </tr>\n",
       "    <tr>\n",
       "      <th>1</th>\n",
       "      <td>3</td>\n",
       "      <td>43</td>\n",
       "      <td>156</td>\n",
       "      <td>3</td>\n",
       "      <td>0</td>\n",
       "      <td>0</td>\n",
       "      <td>0</td>\n",
       "      <td>0</td>\n",
       "      <td>0</td>\n",
       "      <td>0</td>\n",
       "      <td>...</td>\n",
       "      <td>1</td>\n",
       "      <td>0</td>\n",
       "      <td>0</td>\n",
       "      <td>0</td>\n",
       "      <td>0</td>\n",
       "      <td>0</td>\n",
       "      <td>0</td>\n",
       "      <td>0</td>\n",
       "      <td>0</td>\n",
       "      <td>0</td>\n",
       "    </tr>\n",
       "    <tr>\n",
       "      <th>2</th>\n",
       "      <td>2</td>\n",
       "      <td>17</td>\n",
       "      <td>107</td>\n",
       "      <td>3</td>\n",
       "      <td>1</td>\n",
       "      <td>0</td>\n",
       "      <td>0</td>\n",
       "      <td>0</td>\n",
       "      <td>0</td>\n",
       "      <td>0</td>\n",
       "      <td>...</td>\n",
       "      <td>1</td>\n",
       "      <td>0</td>\n",
       "      <td>0</td>\n",
       "      <td>0</td>\n",
       "      <td>0</td>\n",
       "      <td>0</td>\n",
       "      <td>0</td>\n",
       "      <td>0</td>\n",
       "      <td>0</td>\n",
       "      <td>0</td>\n",
       "    </tr>\n",
       "    <tr>\n",
       "      <th>3</th>\n",
       "      <td>3</td>\n",
       "      <td>52</td>\n",
       "      <td>147</td>\n",
       "      <td>3</td>\n",
       "      <td>0</td>\n",
       "      <td>1</td>\n",
       "      <td>0</td>\n",
       "      <td>0</td>\n",
       "      <td>0</td>\n",
       "      <td>0</td>\n",
       "      <td>...</td>\n",
       "      <td>1</td>\n",
       "      <td>0</td>\n",
       "      <td>0</td>\n",
       "      <td>0</td>\n",
       "      <td>0</td>\n",
       "      <td>0</td>\n",
       "      <td>0</td>\n",
       "      <td>0</td>\n",
       "      <td>0</td>\n",
       "      <td>0</td>\n",
       "    </tr>\n",
       "    <tr>\n",
       "      <th>4</th>\n",
       "      <td>3</td>\n",
       "      <td>20</td>\n",
       "      <td>115</td>\n",
       "      <td>0</td>\n",
       "      <td>1</td>\n",
       "      <td>0</td>\n",
       "      <td>0</td>\n",
       "      <td>0</td>\n",
       "      <td>0</td>\n",
       "      <td>0</td>\n",
       "      <td>...</td>\n",
       "      <td>0</td>\n",
       "      <td>0</td>\n",
       "      <td>0</td>\n",
       "      <td>0</td>\n",
       "      <td>0</td>\n",
       "      <td>0</td>\n",
       "      <td>0</td>\n",
       "      <td>0</td>\n",
       "      <td>1</td>\n",
       "      <td>0</td>\n",
       "    </tr>\n",
       "  </tbody>\n",
       "</table>\n",
       "<p>5 rows × 24 columns</p>\n",
       "</div>"
      ],
      "text/plain": [
       "   Number_of_rooms  Terrace_Area  Living_Area  Fully_equipped_kitchen  \\\n",
       "0                3            43          156                       3   \n",
       "1                3            43          156                       3   \n",
       "2                2            17          107                       3   \n",
       "3                3            52          147                       3   \n",
       "4                3            20          115                       0   \n",
       "\n",
       "   Subtype_of_property_APARTMENT  Subtype_of_property_DUPLEX  \\\n",
       "0                              0                           0   \n",
       "1                              0                           0   \n",
       "2                              1                           0   \n",
       "3                              0                           1   \n",
       "4                              1                           0   \n",
       "\n",
       "   Subtype_of_property_FLAT_STUDIO  Subtype_of_property_GROUND_FLOOR  \\\n",
       "0                                0                                 0   \n",
       "1                                0                                 0   \n",
       "2                                0                                 0   \n",
       "3                                0                                 0   \n",
       "4                                0                                 0   \n",
       "\n",
       "   Subtype_of_property_KOT  Subtype_of_property_LOFT  ...  Province_Brussels  \\\n",
       "0                        0                         0  ...                  1   \n",
       "1                        0                         0  ...                  1   \n",
       "2                        0                         0  ...                  1   \n",
       "3                        0                         0  ...                  1   \n",
       "4                        0                         0  ...                  0   \n",
       "\n",
       "   Province_East Flanders  Province_Flemish Brabant  Province_Hainaut  \\\n",
       "0                       0                         0                 0   \n",
       "1                       0                         0                 0   \n",
       "2                       0                         0                 0   \n",
       "3                       0                         0                 0   \n",
       "4                       0                         0                 0   \n",
       "\n",
       "   Province_Limburg  Province_Liège  Province_Luxembourg  Province_Namur  \\\n",
       "0                 0               0                    0               0   \n",
       "1                 0               0                    0               0   \n",
       "2                 0               0                    0               0   \n",
       "3                 0               0                    0               0   \n",
       "4                 0               0                    0               0   \n",
       "\n",
       "   Province_Walloon Brabant  Province_West Flanders  \n",
       "0                         0                       0  \n",
       "1                         0                       0  \n",
       "2                         0                       0  \n",
       "3                         0                       0  \n",
       "4                         1                       0  \n",
       "\n",
       "[5 rows x 24 columns]"
      ]
     },
     "execution_count": 197,
     "metadata": {},
     "output_type": "execute_result"
    }
   ],
   "source": [
    "X.head()"
   ]
  },
  {
   "cell_type": "code",
   "execution_count": 159,
   "metadata": {},
   "outputs": [],
   "source": [
    "#X=X.to_numpy()\n",
    "#y=y.to_numpy"
   ]
  },
  {
   "cell_type": "code",
   "execution_count": 198,
   "metadata": {},
   "outputs": [],
   "source": [
    "X_train, X_test, y_train, y_test = train_test_split(X, y, test_size=0.2, random_state=40)"
   ]
  },
  {
   "cell_type": "code",
   "execution_count": 176,
   "metadata": {},
   "outputs": [],
   "source": [
    "from sklearn import linear_model"
   ]
  },
  {
   "cell_type": "code",
   "execution_count": 177,
   "metadata": {},
   "outputs": [
    {
     "data": {
      "text/html": [
       "<style>#sk-container-id-3 {color: black;background-color: white;}#sk-container-id-3 pre{padding: 0;}#sk-container-id-3 div.sk-toggleable {background-color: white;}#sk-container-id-3 label.sk-toggleable__label {cursor: pointer;display: block;width: 100%;margin-bottom: 0;padding: 0.3em;box-sizing: border-box;text-align: center;}#sk-container-id-3 label.sk-toggleable__label-arrow:before {content: \"▸\";float: left;margin-right: 0.25em;color: #696969;}#sk-container-id-3 label.sk-toggleable__label-arrow:hover:before {color: black;}#sk-container-id-3 div.sk-estimator:hover label.sk-toggleable__label-arrow:before {color: black;}#sk-container-id-3 div.sk-toggleable__content {max-height: 0;max-width: 0;overflow: hidden;text-align: left;background-color: #f0f8ff;}#sk-container-id-3 div.sk-toggleable__content pre {margin: 0.2em;color: black;border-radius: 0.25em;background-color: #f0f8ff;}#sk-container-id-3 input.sk-toggleable__control:checked~div.sk-toggleable__content {max-height: 200px;max-width: 100%;overflow: auto;}#sk-container-id-3 input.sk-toggleable__control:checked~label.sk-toggleable__label-arrow:before {content: \"▾\";}#sk-container-id-3 div.sk-estimator input.sk-toggleable__control:checked~label.sk-toggleable__label {background-color: #d4ebff;}#sk-container-id-3 div.sk-label input.sk-toggleable__control:checked~label.sk-toggleable__label {background-color: #d4ebff;}#sk-container-id-3 input.sk-hidden--visually {border: 0;clip: rect(1px 1px 1px 1px);clip: rect(1px, 1px, 1px, 1px);height: 1px;margin: -1px;overflow: hidden;padding: 0;position: absolute;width: 1px;}#sk-container-id-3 div.sk-estimator {font-family: monospace;background-color: #f0f8ff;border: 1px dotted black;border-radius: 0.25em;box-sizing: border-box;margin-bottom: 0.5em;}#sk-container-id-3 div.sk-estimator:hover {background-color: #d4ebff;}#sk-container-id-3 div.sk-parallel-item::after {content: \"\";width: 100%;border-bottom: 1px solid gray;flex-grow: 1;}#sk-container-id-3 div.sk-label:hover label.sk-toggleable__label {background-color: #d4ebff;}#sk-container-id-3 div.sk-serial::before {content: \"\";position: absolute;border-left: 1px solid gray;box-sizing: border-box;top: 0;bottom: 0;left: 50%;z-index: 0;}#sk-container-id-3 div.sk-serial {display: flex;flex-direction: column;align-items: center;background-color: white;padding-right: 0.2em;padding-left: 0.2em;position: relative;}#sk-container-id-3 div.sk-item {position: relative;z-index: 1;}#sk-container-id-3 div.sk-parallel {display: flex;align-items: stretch;justify-content: center;background-color: white;position: relative;}#sk-container-id-3 div.sk-item::before, #sk-container-id-3 div.sk-parallel-item::before {content: \"\";position: absolute;border-left: 1px solid gray;box-sizing: border-box;top: 0;bottom: 0;left: 50%;z-index: -1;}#sk-container-id-3 div.sk-parallel-item {display: flex;flex-direction: column;z-index: 1;position: relative;background-color: white;}#sk-container-id-3 div.sk-parallel-item:first-child::after {align-self: flex-end;width: 50%;}#sk-container-id-3 div.sk-parallel-item:last-child::after {align-self: flex-start;width: 50%;}#sk-container-id-3 div.sk-parallel-item:only-child::after {width: 0;}#sk-container-id-3 div.sk-dashed-wrapped {border: 1px dashed gray;margin: 0 0.4em 0.5em 0.4em;box-sizing: border-box;padding-bottom: 0.4em;background-color: white;}#sk-container-id-3 div.sk-label label {font-family: monospace;font-weight: bold;display: inline-block;line-height: 1.2em;}#sk-container-id-3 div.sk-label-container {text-align: center;}#sk-container-id-3 div.sk-container {/* jupyter's `normalize.less` sets `[hidden] { display: none; }` but bootstrap.min.css set `[hidden] { display: none !important; }` so we also need the `!important` here to be able to override the default hidden behavior on the sphinx rendered scikit-learn.org. See: https://github.com/scikit-learn/scikit-learn/issues/21755 */display: inline-block !important;position: relative;}#sk-container-id-3 div.sk-text-repr-fallback {display: none;}</style><div id=\"sk-container-id-3\" class=\"sk-top-container\"><div class=\"sk-text-repr-fallback\"><pre>Ridge(alpha=9000)</pre><b>In a Jupyter environment, please rerun this cell to show the HTML representation or trust the notebook. <br />On GitHub, the HTML representation is unable to render, please try loading this page with nbviewer.org.</b></div><div class=\"sk-container\" hidden><div class=\"sk-item\"><div class=\"sk-estimator sk-toggleable\"><input class=\"sk-toggleable__control sk-hidden--visually\" id=\"sk-estimator-id-3\" type=\"checkbox\" checked><label for=\"sk-estimator-id-3\" class=\"sk-toggleable__label sk-toggleable__label-arrow\">Ridge</label><div class=\"sk-toggleable__content\"><pre>Ridge(alpha=9000)</pre></div></div></div></div></div>"
      ],
      "text/plain": [
       "Ridge(alpha=9000)"
      ]
     },
     "execution_count": 177,
     "metadata": {},
     "output_type": "execute_result"
    }
   ],
   "source": [
    "model = linear_model.Ridge(alpha = 9000)\n",
    "model.fit(X_train, y_train)"
   ]
  },
  {
   "cell_type": "code",
   "execution_count": 181,
   "metadata": {},
   "outputs": [
    {
     "data": {
      "text/plain": [
       "194      580000\n",
       "3105     315000\n",
       "3169     175000\n",
       "999      265000\n",
       "3233     255000\n",
       "          ...  \n",
       "3410     260000\n",
       "714      192000\n",
       "13517    398000\n",
       "2840     699000\n",
       "3325     449000\n",
       "Name: Price, Length: 1354, dtype: int64"
      ]
     },
     "execution_count": 181,
     "metadata": {},
     "output_type": "execute_result"
    }
   ],
   "source": [
    "y_test"
   ]
  },
  {
   "cell_type": "code",
   "execution_count": 179,
   "metadata": {},
   "outputs": [
    {
     "data": {
      "text/plain": [
       "array([362254.92141715, 331200.20618676, 375743.31309081, ...,\n",
       "       363751.8578353 , 321859.52288866, 350048.29573284])"
      ]
     },
     "execution_count": 179,
     "metadata": {},
     "output_type": "execute_result"
    }
   ],
   "source": [
    "model.predict(X_test)"
   ]
  },
  {
   "cell_type": "code",
   "execution_count": 81,
   "metadata": {},
   "outputs": [
    {
     "data": {
      "text/plain": [
       "0    450000\n",
       "1    450000\n",
       "2    485000\n",
       "3    460000\n",
       "4    475000\n",
       "Name: Price, dtype: int64"
      ]
     },
     "execution_count": 81,
     "metadata": {},
     "output_type": "execute_result"
    }
   ],
   "source": [
    "y.head()"
   ]
  },
  {
   "cell_type": "code",
   "execution_count": 82,
   "metadata": {},
   "outputs": [],
   "source": [
    "# from sklearn.model_selection import train_test_split\n",
    "# X_train, X_test, y_train, y_test = train_test_split(X, y, test_size=0.2, random_state=40)"
   ]
  },
  {
   "cell_type": "code",
   "execution_count": 89,
   "metadata": {},
   "outputs": [],
   "source": [
    "X=df_ap.drop('Price', axis=1)\n",
    "y=df_ap['Price']"
   ]
  },
  {
   "cell_type": "code",
   "execution_count": 113,
   "metadata": {},
   "outputs": [],
   "source": [
    "from sklearn.model_selection import train_test_split\n",
    "X_train, X_test, y_train, y_test = train_test_split(X, y, test_size=0.2, random_state=40)"
   ]
  },
  {
   "cell_type": "code",
   "execution_count": 115,
   "metadata": {},
   "outputs": [
    {
     "data": {
      "text/html": [
       "<style>#sk-container-id-1 {color: black;background-color: white;}#sk-container-id-1 pre{padding: 0;}#sk-container-id-1 div.sk-toggleable {background-color: white;}#sk-container-id-1 label.sk-toggleable__label {cursor: pointer;display: block;width: 100%;margin-bottom: 0;padding: 0.3em;box-sizing: border-box;text-align: center;}#sk-container-id-1 label.sk-toggleable__label-arrow:before {content: \"▸\";float: left;margin-right: 0.25em;color: #696969;}#sk-container-id-1 label.sk-toggleable__label-arrow:hover:before {color: black;}#sk-container-id-1 div.sk-estimator:hover label.sk-toggleable__label-arrow:before {color: black;}#sk-container-id-1 div.sk-toggleable__content {max-height: 0;max-width: 0;overflow: hidden;text-align: left;background-color: #f0f8ff;}#sk-container-id-1 div.sk-toggleable__content pre {margin: 0.2em;color: black;border-radius: 0.25em;background-color: #f0f8ff;}#sk-container-id-1 input.sk-toggleable__control:checked~div.sk-toggleable__content {max-height: 200px;max-width: 100%;overflow: auto;}#sk-container-id-1 input.sk-toggleable__control:checked~label.sk-toggleable__label-arrow:before {content: \"▾\";}#sk-container-id-1 div.sk-estimator input.sk-toggleable__control:checked~label.sk-toggleable__label {background-color: #d4ebff;}#sk-container-id-1 div.sk-label input.sk-toggleable__control:checked~label.sk-toggleable__label {background-color: #d4ebff;}#sk-container-id-1 input.sk-hidden--visually {border: 0;clip: rect(1px 1px 1px 1px);clip: rect(1px, 1px, 1px, 1px);height: 1px;margin: -1px;overflow: hidden;padding: 0;position: absolute;width: 1px;}#sk-container-id-1 div.sk-estimator {font-family: monospace;background-color: #f0f8ff;border: 1px dotted black;border-radius: 0.25em;box-sizing: border-box;margin-bottom: 0.5em;}#sk-container-id-1 div.sk-estimator:hover {background-color: #d4ebff;}#sk-container-id-1 div.sk-parallel-item::after {content: \"\";width: 100%;border-bottom: 1px solid gray;flex-grow: 1;}#sk-container-id-1 div.sk-label:hover label.sk-toggleable__label {background-color: #d4ebff;}#sk-container-id-1 div.sk-serial::before {content: \"\";position: absolute;border-left: 1px solid gray;box-sizing: border-box;top: 0;bottom: 0;left: 50%;z-index: 0;}#sk-container-id-1 div.sk-serial {display: flex;flex-direction: column;align-items: center;background-color: white;padding-right: 0.2em;padding-left: 0.2em;position: relative;}#sk-container-id-1 div.sk-item {position: relative;z-index: 1;}#sk-container-id-1 div.sk-parallel {display: flex;align-items: stretch;justify-content: center;background-color: white;position: relative;}#sk-container-id-1 div.sk-item::before, #sk-container-id-1 div.sk-parallel-item::before {content: \"\";position: absolute;border-left: 1px solid gray;box-sizing: border-box;top: 0;bottom: 0;left: 50%;z-index: -1;}#sk-container-id-1 div.sk-parallel-item {display: flex;flex-direction: column;z-index: 1;position: relative;background-color: white;}#sk-container-id-1 div.sk-parallel-item:first-child::after {align-self: flex-end;width: 50%;}#sk-container-id-1 div.sk-parallel-item:last-child::after {align-self: flex-start;width: 50%;}#sk-container-id-1 div.sk-parallel-item:only-child::after {width: 0;}#sk-container-id-1 div.sk-dashed-wrapped {border: 1px dashed gray;margin: 0 0.4em 0.5em 0.4em;box-sizing: border-box;padding-bottom: 0.4em;background-color: white;}#sk-container-id-1 div.sk-label label {font-family: monospace;font-weight: bold;display: inline-block;line-height: 1.2em;}#sk-container-id-1 div.sk-label-container {text-align: center;}#sk-container-id-1 div.sk-container {/* jupyter's `normalize.less` sets `[hidden] { display: none; }` but bootstrap.min.css set `[hidden] { display: none !important; }` so we also need the `!important` here to be able to override the default hidden behavior on the sphinx rendered scikit-learn.org. See: https://github.com/scikit-learn/scikit-learn/issues/21755 */display: inline-block !important;position: relative;}#sk-container-id-1 div.sk-text-repr-fallback {display: none;}</style><div id=\"sk-container-id-1\" class=\"sk-top-container\"><div class=\"sk-text-repr-fallback\"><pre>LinearRegression()</pre><b>In a Jupyter environment, please rerun this cell to show the HTML representation or trust the notebook. <br />On GitHub, the HTML representation is unable to render, please try loading this page with nbviewer.org.</b></div><div class=\"sk-container\" hidden><div class=\"sk-item\"><div class=\"sk-estimator sk-toggleable\"><input class=\"sk-toggleable__control sk-hidden--visually\" id=\"sk-estimator-id-1\" type=\"checkbox\" checked><label for=\"sk-estimator-id-1\" class=\"sk-toggleable__label sk-toggleable__label-arrow\">LinearRegression</label><div class=\"sk-toggleable__content\"><pre>LinearRegression()</pre></div></div></div></div></div>"
      ],
      "text/plain": [
       "LinearRegression()"
      ]
     },
     "execution_count": 115,
     "metadata": {},
     "output_type": "execute_result"
    }
   ],
   "source": [
    "from sklearn.linear_model import LinearRegression\n",
    "lin = LinearRegression()\n",
    "lin.fit(X_train, y_train)"
   ]
  },
  {
   "cell_type": "code",
   "execution_count": 122,
   "metadata": {},
   "outputs": [],
   "source": [
    "from sklearn import preprocessing"
   ]
  },
  {
   "cell_type": "code",
   "execution_count": 124,
   "metadata": {},
   "outputs": [],
   "source": [
    "X_scaled = preprocessing.scale(X)\n",
    "X_train, X_test, y_train, y_test = train_test_split(X, y, test_size=0.2, random_state=40)"
   ]
  },
  {
   "cell_type": "code",
   "execution_count": 126,
   "metadata": {},
   "outputs": [],
   "source": [
    "from sklearn.preprocessing import PolynomialFeatures\n",
    "\n",
    "pft = PolynomialFeatures(degree = 2)\n",
    "X_poly = pft.fit_transform(X_scaled)"
   ]
  },
  {
   "cell_type": "code",
   "execution_count": 127,
   "metadata": {},
   "outputs": [],
   "source": [
    "X_train, X_test, y_train, y_test = train_test_split(X_poly, X_scaled,test_size = 0.2,random_state = 42)"
   ]
  },
  {
   "cell_type": "code",
   "execution_count": 128,
   "metadata": {},
   "outputs": [
    {
     "data": {
      "text/html": [
       "<style>#sk-container-id-2 {color: black;background-color: white;}#sk-container-id-2 pre{padding: 0;}#sk-container-id-2 div.sk-toggleable {background-color: white;}#sk-container-id-2 label.sk-toggleable__label {cursor: pointer;display: block;width: 100%;margin-bottom: 0;padding: 0.3em;box-sizing: border-box;text-align: center;}#sk-container-id-2 label.sk-toggleable__label-arrow:before {content: \"▸\";float: left;margin-right: 0.25em;color: #696969;}#sk-container-id-2 label.sk-toggleable__label-arrow:hover:before {color: black;}#sk-container-id-2 div.sk-estimator:hover label.sk-toggleable__label-arrow:before {color: black;}#sk-container-id-2 div.sk-toggleable__content {max-height: 0;max-width: 0;overflow: hidden;text-align: left;background-color: #f0f8ff;}#sk-container-id-2 div.sk-toggleable__content pre {margin: 0.2em;color: black;border-radius: 0.25em;background-color: #f0f8ff;}#sk-container-id-2 input.sk-toggleable__control:checked~div.sk-toggleable__content {max-height: 200px;max-width: 100%;overflow: auto;}#sk-container-id-2 input.sk-toggleable__control:checked~label.sk-toggleable__label-arrow:before {content: \"▾\";}#sk-container-id-2 div.sk-estimator input.sk-toggleable__control:checked~label.sk-toggleable__label {background-color: #d4ebff;}#sk-container-id-2 div.sk-label input.sk-toggleable__control:checked~label.sk-toggleable__label {background-color: #d4ebff;}#sk-container-id-2 input.sk-hidden--visually {border: 0;clip: rect(1px 1px 1px 1px);clip: rect(1px, 1px, 1px, 1px);height: 1px;margin: -1px;overflow: hidden;padding: 0;position: absolute;width: 1px;}#sk-container-id-2 div.sk-estimator {font-family: monospace;background-color: #f0f8ff;border: 1px dotted black;border-radius: 0.25em;box-sizing: border-box;margin-bottom: 0.5em;}#sk-container-id-2 div.sk-estimator:hover {background-color: #d4ebff;}#sk-container-id-2 div.sk-parallel-item::after {content: \"\";width: 100%;border-bottom: 1px solid gray;flex-grow: 1;}#sk-container-id-2 div.sk-label:hover label.sk-toggleable__label {background-color: #d4ebff;}#sk-container-id-2 div.sk-serial::before {content: \"\";position: absolute;border-left: 1px solid gray;box-sizing: border-box;top: 0;bottom: 0;left: 50%;z-index: 0;}#sk-container-id-2 div.sk-serial {display: flex;flex-direction: column;align-items: center;background-color: white;padding-right: 0.2em;padding-left: 0.2em;position: relative;}#sk-container-id-2 div.sk-item {position: relative;z-index: 1;}#sk-container-id-2 div.sk-parallel {display: flex;align-items: stretch;justify-content: center;background-color: white;position: relative;}#sk-container-id-2 div.sk-item::before, #sk-container-id-2 div.sk-parallel-item::before {content: \"\";position: absolute;border-left: 1px solid gray;box-sizing: border-box;top: 0;bottom: 0;left: 50%;z-index: -1;}#sk-container-id-2 div.sk-parallel-item {display: flex;flex-direction: column;z-index: 1;position: relative;background-color: white;}#sk-container-id-2 div.sk-parallel-item:first-child::after {align-self: flex-end;width: 50%;}#sk-container-id-2 div.sk-parallel-item:last-child::after {align-self: flex-start;width: 50%;}#sk-container-id-2 div.sk-parallel-item:only-child::after {width: 0;}#sk-container-id-2 div.sk-dashed-wrapped {border: 1px dashed gray;margin: 0 0.4em 0.5em 0.4em;box-sizing: border-box;padding-bottom: 0.4em;background-color: white;}#sk-container-id-2 div.sk-label label {font-family: monospace;font-weight: bold;display: inline-block;line-height: 1.2em;}#sk-container-id-2 div.sk-label-container {text-align: center;}#sk-container-id-2 div.sk-container {/* jupyter's `normalize.less` sets `[hidden] { display: none; }` but bootstrap.min.css set `[hidden] { display: none !important; }` so we also need the `!important` here to be able to override the default hidden behavior on the sphinx rendered scikit-learn.org. See: https://github.com/scikit-learn/scikit-learn/issues/21755 */display: inline-block !important;position: relative;}#sk-container-id-2 div.sk-text-repr-fallback {display: none;}</style><div id=\"sk-container-id-2\" class=\"sk-top-container\"><div class=\"sk-text-repr-fallback\"><pre>Ridge(alpha=300)</pre><b>In a Jupyter environment, please rerun this cell to show the HTML representation or trust the notebook. <br />On GitHub, the HTML representation is unable to render, please try loading this page with nbviewer.org.</b></div><div class=\"sk-container\" hidden><div class=\"sk-item\"><div class=\"sk-estimator sk-toggleable\"><input class=\"sk-toggleable__control sk-hidden--visually\" id=\"sk-estimator-id-2\" type=\"checkbox\" checked><label for=\"sk-estimator-id-2\" class=\"sk-toggleable__label sk-toggleable__label-arrow\">Ridge</label><div class=\"sk-toggleable__content\"><pre>Ridge(alpha=300)</pre></div></div></div></div></div>"
      ],
      "text/plain": [
       "Ridge(alpha=300)"
      ]
     },
     "execution_count": 128,
     "metadata": {},
     "output_type": "execute_result"
    }
   ],
   "source": [
    "from sklearn import linear_model\n",
    "model = linear_model.Ridge(alpha = 300)\n",
    "# alpha is the regularization parameter(don't get confused by the symbol)\n",
    "model.fit(X_train, y_train)"
   ]
  },
  {
   "cell_type": "code",
   "execution_count": 129,
   "metadata": {},
   "outputs": [],
   "source": [
    "predictionTestSet = model.predict(X_test)"
   ]
  },
  {
   "cell_type": "code",
   "execution_count": 132,
   "metadata": {},
   "outputs": [
    {
     "data": {
      "text/plain": [
       "-2.4362071443049734e+19"
      ]
     },
     "execution_count": 132,
     "metadata": {},
     "output_type": "execute_result"
    }
   ],
   "source": []
  },
  {
   "cell_type": "code",
   "execution_count": 130,
   "metadata": {},
   "outputs": [],
   "source": [
    "from sklearn.metrics import mean_squared_error\n",
    "errorTestSet = mean_squared_error(y_test, predictionTestSet)"
   ]
  },
  {
   "cell_type": "code",
   "execution_count": 131,
   "metadata": {},
   "outputs": [
    {
     "name": "stdout",
     "output_type": "stream",
     "text": [
      "0.0009002883628461652\n"
     ]
    }
   ],
   "source": [
    "print(errorTestSet)"
   ]
  },
  {
   "attachments": {},
   "cell_type": "markdown",
   "metadata": {},
   "source": [
    "Having or knowing what data limitations is, is very good. Dipe deever and see what the problems are. What are features you wish you had and how you can solve it later?  Another thing is , look only to the variables driving this source?"
   ]
  },
  {
   "cell_type": "markdown",
   "metadata": {},
   "source": []
  }
 ],
 "metadata": {
  "kernelspec": {
   "display_name": "Python 3",
   "language": "python",
   "name": "python3"
  },
  "language_info": {
   "codemirror_mode": {
    "name": "ipython",
    "version": 3
   },
   "file_extension": ".py",
   "mimetype": "text/x-python",
   "name": "python",
   "nbconvert_exporter": "python",
   "pygments_lexer": "ipython3",
   "version": "3.11.1 (tags/v3.11.1:a7a450f, Dec  6 2022, 19:58:39) [MSC v.1934 64 bit (AMD64)]"
  },
  "orig_nbformat": 4,
  "vscode": {
   "interpreter": {
    "hash": "5238573367df39f7286bb46f9ff5f08f63a01a80960060ce41e3c79b190280fa"
   }
  }
 },
 "nbformat": 4,
 "nbformat_minor": 2
}
