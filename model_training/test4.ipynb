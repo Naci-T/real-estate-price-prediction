{
 "cells": [
  {
   "attachments": {},
   "cell_type": "markdown",
   "metadata": {},
   "source": [
    "Try several models "
   ]
  },
  {
   "cell_type": "code",
   "execution_count": 192,
   "metadata": {},
   "outputs": [],
   "source": [
    "import pandas as pd\n",
    "import seaborn as sns\n",
    "import matplotlib.pyplot as plt\n",
    "import numpy as np\n",
    "\n",
    "import xgboost as xgb\n",
    "\n",
    "from sklearn.model_selection import train_test_split\n",
    "from sklearn.linear_model import LinearRegression\n",
    "from sklearn.metrics import mean_squared_error, mean_absolute_error\n",
    "from sklearn.ensemble import RandomForestRegressor\n",
    "from sklearn import preprocessing\n",
    "df = pd.read_csv(\"cleaned_data_set_immoweb.csv\")"
   ]
  },
  {
   "cell_type": "code",
   "execution_count": 193,
   "metadata": {},
   "outputs": [
    {
     "data": {
      "text/html": [
       "<div>\n",
       "<style scoped>\n",
       "    .dataframe tbody tr th:only-of-type {\n",
       "        vertical-align: middle;\n",
       "    }\n",
       "\n",
       "    .dataframe tbody tr th {\n",
       "        vertical-align: top;\n",
       "    }\n",
       "\n",
       "    .dataframe thead th {\n",
       "        text-align: right;\n",
       "    }\n",
       "</style>\n",
       "<table border=\"1\" class=\"dataframe\">\n",
       "  <thead>\n",
       "    <tr style=\"text-align: right;\">\n",
       "      <th></th>\n",
       "      <th>Postal_code</th>\n",
       "      <th>Province</th>\n",
       "      <th>Type_of_property</th>\n",
       "      <th>Subtype_of_property</th>\n",
       "      <th>Price</th>\n",
       "      <th>Number_of_rooms</th>\n",
       "      <th>Living_Area</th>\n",
       "      <th>Fully_equipped_kitchen</th>\n",
       "      <th>Terrace_Area</th>\n",
       "      <th>Garden_Area</th>\n",
       "      <th>Surface_area_of_the_plot_of_land</th>\n",
       "      <th>State_of_the_building</th>\n",
       "    </tr>\n",
       "  </thead>\n",
       "  <tbody>\n",
       "    <tr>\n",
       "      <th>0</th>\n",
       "      <td>1130</td>\n",
       "      <td>Brussels</td>\n",
       "      <td>1</td>\n",
       "      <td>1</td>\n",
       "      <td>450000</td>\n",
       "      <td>3</td>\n",
       "      <td>156</td>\n",
       "      <td>1</td>\n",
       "      <td>43</td>\n",
       "      <td>0</td>\n",
       "      <td>0</td>\n",
       "      <td>4</td>\n",
       "    </tr>\n",
       "    <tr>\n",
       "      <th>1</th>\n",
       "      <td>1140</td>\n",
       "      <td>Brussels</td>\n",
       "      <td>1</td>\n",
       "      <td>1</td>\n",
       "      <td>450000</td>\n",
       "      <td>3</td>\n",
       "      <td>156</td>\n",
       "      <td>1</td>\n",
       "      <td>43</td>\n",
       "      <td>0</td>\n",
       "      <td>0</td>\n",
       "      <td>4</td>\n",
       "    </tr>\n",
       "    <tr>\n",
       "      <th>2</th>\n",
       "      <td>1180</td>\n",
       "      <td>Brussels</td>\n",
       "      <td>1</td>\n",
       "      <td>2</td>\n",
       "      <td>485000</td>\n",
       "      <td>2</td>\n",
       "      <td>107</td>\n",
       "      <td>1</td>\n",
       "      <td>17</td>\n",
       "      <td>0</td>\n",
       "      <td>0</td>\n",
       "      <td>1</td>\n",
       "    </tr>\n",
       "    <tr>\n",
       "      <th>3</th>\n",
       "      <td>1000</td>\n",
       "      <td>Brussels</td>\n",
       "      <td>1</td>\n",
       "      <td>3</td>\n",
       "      <td>460000</td>\n",
       "      <td>3</td>\n",
       "      <td>147</td>\n",
       "      <td>1</td>\n",
       "      <td>52</td>\n",
       "      <td>0</td>\n",
       "      <td>0</td>\n",
       "      <td>4</td>\n",
       "    </tr>\n",
       "    <tr>\n",
       "      <th>4</th>\n",
       "      <td>1340</td>\n",
       "      <td>Walloon Brabant</td>\n",
       "      <td>1</td>\n",
       "      <td>2</td>\n",
       "      <td>475000</td>\n",
       "      <td>3</td>\n",
       "      <td>115</td>\n",
       "      <td>0</td>\n",
       "      <td>20</td>\n",
       "      <td>0</td>\n",
       "      <td>0</td>\n",
       "      <td>1</td>\n",
       "    </tr>\n",
       "  </tbody>\n",
       "</table>\n",
       "</div>"
      ],
      "text/plain": [
       "   Postal_code         Province  Type_of_property  Subtype_of_property  \\\n",
       "0         1130         Brussels                 1                    1   \n",
       "1         1140         Brussels                 1                    1   \n",
       "2         1180         Brussels                 1                    2   \n",
       "3         1000         Brussels                 1                    3   \n",
       "4         1340  Walloon Brabant                 1                    2   \n",
       "\n",
       "    Price  Number_of_rooms  Living_Area  Fully_equipped_kitchen  Terrace_Area  \\\n",
       "0  450000                3          156                       1            43   \n",
       "1  450000                3          156                       1            43   \n",
       "2  485000                2          107                       1            17   \n",
       "3  460000                3          147                       1            52   \n",
       "4  475000                3          115                       0            20   \n",
       "\n",
       "   Garden_Area  Surface_area_of_the_plot_of_land  State_of_the_building  \n",
       "0            0                                 0                      4  \n",
       "1            0                                 0                      4  \n",
       "2            0                                 0                      1  \n",
       "3            0                                 0                      4  \n",
       "4            0                                 0                      1  "
      ]
     },
     "execution_count": 193,
     "metadata": {},
     "output_type": "execute_result"
    }
   ],
   "source": [
    "df.drop('Unnamed: 0', axis=1, inplace=True)\n",
    "df.head()"
   ]
  },
  {
   "cell_type": "code",
   "execution_count": 194,
   "metadata": {},
   "outputs": [],
   "source": [
    "df=df.drop(['Province','Fully_equipped_kitchen','Type_of_property'], axis=1)\n",
    "\n",
    "X=df.drop(['Price'], axis=1)\n",
    "y=df['Price']"
   ]
  },
  {
   "cell_type": "code",
   "execution_count": 195,
   "metadata": {},
   "outputs": [],
   "source": [
    "# split the data into training and testing sets\n",
    "X_train, X_test, y_train, y_test = train_test_split(X, y, test_size=0.2, random_state=40)"
   ]
  },
  {
   "attachments": {},
   "cell_type": "markdown",
   "metadata": {},
   "source": [
    "We standardize our data:"
   ]
  },
  {
   "cell_type": "code",
   "execution_count": 184,
   "metadata": {},
   "outputs": [],
   "source": [
    "from sklearn.preprocessing import StandardScaler\n",
    "\n",
    "scaler = StandardScaler()\n",
    "scaler.fit(X_train)\n",
    "X_train_standardized = scaler.transform(X_train)\n",
    "X_test_standardized = scaler.transform(X_test)"
   ]
  },
  {
   "cell_type": "code",
   "execution_count": 168,
   "metadata": {},
   "outputs": [
    {
     "name": "stdout",
     "output_type": "stream",
     "text": [
      "Mean Absolute Error: 89388.46784693967\n"
     ]
    }
   ],
   "source": [
    "from sklearn.ensemble import RandomForestRegressor\n",
    "from sklearn.model_selection import train_test_split\n",
    "from sklearn.metrics import mean_absolute_error\n",
    "\n",
    "X_train, X_test, y_train, y_test = train_test_split(X, y, test_size=0.2, random_state=30)\n",
    "\n",
    "# train a Random Forest regressor on the training data\n",
    "rf = RandomForestRegressor(n_estimators=50, random_state=20)\n",
    "rf.fit(X_train, y_train)\n",
    "\n",
    "# make predictions on the testing data\n",
    "y_pred = rf.predict(X_test)\n",
    "\n",
    "# evaluate the model's performance\n",
    "mae = mean_absolute_error(y_test, y_pred)\n",
    "print(\"Mean Absolute Error:\", mae)"
   ]
  },
  {
   "cell_type": "code",
   "execution_count": 185,
   "metadata": {},
   "outputs": [],
   "source": [
    "import xgboost as xgb\n",
    "# X_train, X_test, y_train, y_test = train_test_split(X, y, test_size=0.2, random_state=30)\n",
    "\n",
    "xgb_model = xgb.XGBRegressor(objective=\"reg:squarederror\", random_state=0)\n",
    "xgb_model.fit(X_train_standardized, y_train)\n",
    "\n",
    "# make predictions on the testing data\n",
    "y_pred = xgb_model.predict(X_test_standardized)\n",
    "\n",
    "\n"
   ]
  },
  {
   "cell_type": "code",
   "execution_count": null,
   "metadata": {},
   "outputs": [],
   "source": [
    "import xgboost as xgb\n",
    "from sklearn.datasets import load_boston\n",
    "from sklearn.model_selection import train_test_split\n",
    "from sklearn.metrics import mean_absolute_error\n",
    "\n",
    "# load the boston housing dataset as an example\n",
    "boston = load_boston()\n",
    "X = boston.data\n",
    "y = boston.target\n",
    "\n",
    "# split the data into training and testing sets\n",
    "X_train, X_test, y_train, y_test = train_test_split(X, y, test_size=0.2, random_state=0)\n",
    "\n",
    "# train an XGBoost regressor on the training data\n",
    "xgb_model = xgb.XGBRegressor(objective=\"reg:squarederror\", random_state=0)\n",
    "xgb_model.fit(X_train, y_train)\n",
    "\n",
    "# make predictions on the testing data\n",
    "y_pred = xgb_model.predict(X_test)\n",
    "\n",
    "# evaluate the model's performance\n",
    "mae = mean_absolute_error(y_test, y_pred)\n",
    "print(\"Mean Absolute Error:\", mae)"
   ]
  },
  {
   "cell_type": "code",
   "execution_count": 152,
   "metadata": {},
   "outputs": [
    {
     "name": "stdout",
     "output_type": "stream",
     "text": [
      "Score: 0.7479483220010816\n"
     ]
    }
   ],
   "source": [
    "regressor_RandomForest = RandomForestRegressor(n_estimators=40,random_state=42) \n",
    "regressor_RandomForest.fit(X_train,y_train)\n",
    "RandomForest_pred =regressor_RandomForest.predict(X_test)\n",
    "\n",
    "# Score\n",
    "rf_score=regressor_RandomForest.score(X_test,y_test)\n",
    "print('Score:', rf_score)"
   ]
  },
  {
   "cell_type": "code",
   "execution_count": null,
   "metadata": {},
   "outputs": [],
   "source": []
  },
  {
   "cell_type": "code",
   "execution_count": 153,
   "metadata": {},
   "outputs": [
    {
     "data": {
      "text/html": [
       "<div>\n",
       "<style scoped>\n",
       "    .dataframe tbody tr th:only-of-type {\n",
       "        vertical-align: middle;\n",
       "    }\n",
       "\n",
       "    .dataframe tbody tr th {\n",
       "        vertical-align: top;\n",
       "    }\n",
       "\n",
       "    .dataframe thead th {\n",
       "        text-align: right;\n",
       "    }\n",
       "</style>\n",
       "<table border=\"1\" class=\"dataframe\">\n",
       "  <thead>\n",
       "    <tr style=\"text-align: right;\">\n",
       "      <th></th>\n",
       "      <th>Postal_code</th>\n",
       "      <th>Subtype_of_property</th>\n",
       "      <th>Number_of_rooms</th>\n",
       "      <th>Living_Area</th>\n",
       "      <th>Terrace_Area</th>\n",
       "      <th>Garden_Area</th>\n",
       "      <th>Surface_area_of_the_plot_of_land</th>\n",
       "      <th>State_of_the_building</th>\n",
       "    </tr>\n",
       "  </thead>\n",
       "  <tbody>\n",
       "    <tr>\n",
       "      <th>0</th>\n",
       "      <td>1130</td>\n",
       "      <td>1</td>\n",
       "      <td>3</td>\n",
       "      <td>156</td>\n",
       "      <td>43</td>\n",
       "      <td>0</td>\n",
       "      <td>0</td>\n",
       "      <td>4</td>\n",
       "    </tr>\n",
       "    <tr>\n",
       "      <th>1</th>\n",
       "      <td>1140</td>\n",
       "      <td>1</td>\n",
       "      <td>3</td>\n",
       "      <td>156</td>\n",
       "      <td>43</td>\n",
       "      <td>0</td>\n",
       "      <td>0</td>\n",
       "      <td>4</td>\n",
       "    </tr>\n",
       "    <tr>\n",
       "      <th>2</th>\n",
       "      <td>1180</td>\n",
       "      <td>2</td>\n",
       "      <td>2</td>\n",
       "      <td>107</td>\n",
       "      <td>17</td>\n",
       "      <td>0</td>\n",
       "      <td>0</td>\n",
       "      <td>1</td>\n",
       "    </tr>\n",
       "    <tr>\n",
       "      <th>3</th>\n",
       "      <td>1000</td>\n",
       "      <td>3</td>\n",
       "      <td>3</td>\n",
       "      <td>147</td>\n",
       "      <td>52</td>\n",
       "      <td>0</td>\n",
       "      <td>0</td>\n",
       "      <td>4</td>\n",
       "    </tr>\n",
       "    <tr>\n",
       "      <th>4</th>\n",
       "      <td>1340</td>\n",
       "      <td>2</td>\n",
       "      <td>3</td>\n",
       "      <td>115</td>\n",
       "      <td>20</td>\n",
       "      <td>0</td>\n",
       "      <td>0</td>\n",
       "      <td>1</td>\n",
       "    </tr>\n",
       "  </tbody>\n",
       "</table>\n",
       "</div>"
      ],
      "text/plain": [
       "   Postal_code  Subtype_of_property  Number_of_rooms  Living_Area  \\\n",
       "0         1130                    1                3          156   \n",
       "1         1140                    1                3          156   \n",
       "2         1180                    2                2          107   \n",
       "3         1000                    3                3          147   \n",
       "4         1340                    2                3          115   \n",
       "\n",
       "   Terrace_Area  Garden_Area  Surface_area_of_the_plot_of_land  \\\n",
       "0            43            0                                 0   \n",
       "1            43            0                                 0   \n",
       "2            17            0                                 0   \n",
       "3            52            0                                 0   \n",
       "4            20            0                                 0   \n",
       "\n",
       "   State_of_the_building  \n",
       "0                      4  \n",
       "1                      4  \n",
       "2                      1  \n",
       "3                      4  \n",
       "4                      1  "
      ]
     },
     "execution_count": 153,
     "metadata": {},
     "output_type": "execute_result"
    }
   ],
   "source": [
    "X.head()"
   ]
  }
 ],
 "metadata": {
  "kernelspec": {
   "display_name": "Python 3",
   "language": "python",
   "name": "python3"
  },
  "language_info": {
   "codemirror_mode": {
    "name": "ipython",
    "version": 3
   },
   "file_extension": ".py",
   "mimetype": "text/x-python",
   "name": "python",
   "nbconvert_exporter": "python",
   "pygments_lexer": "ipython3",
   "version": "3.11.1 (tags/v3.11.1:a7a450f, Dec  6 2022, 19:58:39) [MSC v.1934 64 bit (AMD64)]"
  },
  "orig_nbformat": 4,
  "vscode": {
   "interpreter": {
    "hash": "5238573367df39f7286bb46f9ff5f08f63a01a80960060ce41e3c79b190280fa"
   }
  }
 },
 "nbformat": 4,
 "nbformat_minor": 2
}
