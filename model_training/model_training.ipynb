{
 "cells": [
  {
   "attachments": {},
   "cell_type": "markdown",
   "metadata": {},
   "source": [
    "In this notebook we are creating a Machine learning model to predict prices on Belgium's real estate sales. We'll follow the following steps: \n",
    "- Step 1: Data cleaning and preprocessing\n",
    "- Step 2: Model selection and model training\n",
    "- Step 3: Model evaluation\n",
    "\n",
    "Depending on the evaluation of the model, we'll repeat steps 1 tot 3. "
   ]
  },
  {
   "attachments": {},
   "cell_type": "markdown",
   "metadata": {},
   "source": [
    "# Step 1: Data cleaning and preprocessing\n",
    "\n",
    "We begin by importing the python packages and modules we will be using. Next we'll import our csv file as a dataframe and have a look how our dataframe looks like. "
   ]
  },
  {
   "cell_type": "code",
   "execution_count": 2,
   "metadata": {},
   "outputs": [
    {
     "data": {
      "text/html": [
       "<div>\n",
       "<style scoped>\n",
       "    .dataframe tbody tr th:only-of-type {\n",
       "        vertical-align: middle;\n",
       "    }\n",
       "\n",
       "    .dataframe tbody tr th {\n",
       "        vertical-align: top;\n",
       "    }\n",
       "\n",
       "    .dataframe thead th {\n",
       "        text-align: right;\n",
       "    }\n",
       "</style>\n",
       "<table border=\"1\" class=\"dataframe\">\n",
       "  <thead>\n",
       "    <tr style=\"text-align: right;\">\n",
       "      <th></th>\n",
       "      <th>Unnamed: 0.1</th>\n",
       "      <th>Locality</th>\n",
       "      <th>Type_of_property</th>\n",
       "      <th>Subtype_of_property</th>\n",
       "      <th>Price</th>\n",
       "      <th>Type_of_sale</th>\n",
       "      <th>Number_of_rooms</th>\n",
       "      <th>Living_Area</th>\n",
       "      <th>Fully_equipped_kitchen</th>\n",
       "      <th>Furnished</th>\n",
       "      <th>Open_fire</th>\n",
       "      <th>Terrace</th>\n",
       "      <th>Terrace_Area</th>\n",
       "      <th>Garden</th>\n",
       "      <th>Garden_Area</th>\n",
       "      <th>Surface_area_of_the_plot_of_land</th>\n",
       "      <th>Number_of_facades</th>\n",
       "      <th>Swimming_pool</th>\n",
       "      <th>State_of_the_building</th>\n",
       "      <th>Unnamed: 0</th>\n",
       "    </tr>\n",
       "  </thead>\n",
       "  <tbody>\n",
       "    <tr>\n",
       "      <th>0</th>\n",
       "      <td>0</td>\n",
       "      <td>1130</td>\n",
       "      <td>APARTMENT</td>\n",
       "      <td>PENTHOUSE</td>\n",
       "      <td>450000.0</td>\n",
       "      <td>residential_sale</td>\n",
       "      <td>3.0</td>\n",
       "      <td>156.0</td>\n",
       "      <td>USA_HYPER_EQUIPPED</td>\n",
       "      <td>False</td>\n",
       "      <td>False</td>\n",
       "      <td>True</td>\n",
       "      <td>43.0</td>\n",
       "      <td>NaN</td>\n",
       "      <td>NaN</td>\n",
       "      <td>NaN</td>\n",
       "      <td>4.0</td>\n",
       "      <td>NaN</td>\n",
       "      <td>NaN</td>\n",
       "      <td>0.0</td>\n",
       "    </tr>\n",
       "    <tr>\n",
       "      <th>1</th>\n",
       "      <td>1</td>\n",
       "      <td>1140</td>\n",
       "      <td>APARTMENT</td>\n",
       "      <td>PENTHOUSE</td>\n",
       "      <td>450000.0</td>\n",
       "      <td>residential_sale</td>\n",
       "      <td>3.0</td>\n",
       "      <td>156.0</td>\n",
       "      <td>USA_HYPER_EQUIPPED</td>\n",
       "      <td>False</td>\n",
       "      <td>False</td>\n",
       "      <td>True</td>\n",
       "      <td>43.0</td>\n",
       "      <td>NaN</td>\n",
       "      <td>NaN</td>\n",
       "      <td>NaN</td>\n",
       "      <td>4.0</td>\n",
       "      <td>NaN</td>\n",
       "      <td>NaN</td>\n",
       "      <td>1.0</td>\n",
       "    </tr>\n",
       "    <tr>\n",
       "      <th>2</th>\n",
       "      <td>2</td>\n",
       "      <td>1140</td>\n",
       "      <td>APARTMENT</td>\n",
       "      <td>PENTHOUSE</td>\n",
       "      <td>450000.0</td>\n",
       "      <td>residential_sale</td>\n",
       "      <td>3.0</td>\n",
       "      <td>156.0</td>\n",
       "      <td>USA_HYPER_EQUIPPED</td>\n",
       "      <td>False</td>\n",
       "      <td>False</td>\n",
       "      <td>True</td>\n",
       "      <td>43.0</td>\n",
       "      <td>NaN</td>\n",
       "      <td>NaN</td>\n",
       "      <td>NaN</td>\n",
       "      <td>4.0</td>\n",
       "      <td>NaN</td>\n",
       "      <td>NaN</td>\n",
       "      <td>2.0</td>\n",
       "    </tr>\n",
       "    <tr>\n",
       "      <th>3</th>\n",
       "      <td>3</td>\n",
       "      <td>1180</td>\n",
       "      <td>APARTMENT</td>\n",
       "      <td>APARTMENT</td>\n",
       "      <td>485000.0</td>\n",
       "      <td>residential_sale</td>\n",
       "      <td>2.0</td>\n",
       "      <td>107.0</td>\n",
       "      <td>USA_HYPER_EQUIPPED</td>\n",
       "      <td>False</td>\n",
       "      <td>False</td>\n",
       "      <td>True</td>\n",
       "      <td>17.0</td>\n",
       "      <td>NaN</td>\n",
       "      <td>NaN</td>\n",
       "      <td>NaN</td>\n",
       "      <td>NaN</td>\n",
       "      <td>False</td>\n",
       "      <td>AS_NEW</td>\n",
       "      <td>3.0</td>\n",
       "    </tr>\n",
       "    <tr>\n",
       "      <th>4</th>\n",
       "      <td>4</td>\n",
       "      <td>1000</td>\n",
       "      <td>APARTMENT</td>\n",
       "      <td>DUPLEX</td>\n",
       "      <td>460000.0</td>\n",
       "      <td>residential_sale</td>\n",
       "      <td>3.0</td>\n",
       "      <td>147.0</td>\n",
       "      <td>USA_HYPER_EQUIPPED</td>\n",
       "      <td>False</td>\n",
       "      <td>False</td>\n",
       "      <td>True</td>\n",
       "      <td>52.0</td>\n",
       "      <td>NaN</td>\n",
       "      <td>NaN</td>\n",
       "      <td>NaN</td>\n",
       "      <td>2.0</td>\n",
       "      <td>NaN</td>\n",
       "      <td>NaN</td>\n",
       "      <td>4.0</td>\n",
       "    </tr>\n",
       "  </tbody>\n",
       "</table>\n",
       "</div>"
      ],
      "text/plain": [
       "   Unnamed: 0.1  Locality Type_of_property Subtype_of_property     Price  \\\n",
       "0             0      1130        APARTMENT           PENTHOUSE  450000.0   \n",
       "1             1      1140        APARTMENT           PENTHOUSE  450000.0   \n",
       "2             2      1140        APARTMENT           PENTHOUSE  450000.0   \n",
       "3             3      1180        APARTMENT           APARTMENT  485000.0   \n",
       "4             4      1000        APARTMENT              DUPLEX  460000.0   \n",
       "\n",
       "       Type_of_sale  Number_of_rooms  Living_Area Fully_equipped_kitchen  \\\n",
       "0  residential_sale              3.0        156.0     USA_HYPER_EQUIPPED   \n",
       "1  residential_sale              3.0        156.0     USA_HYPER_EQUIPPED   \n",
       "2  residential_sale              3.0        156.0     USA_HYPER_EQUIPPED   \n",
       "3  residential_sale              2.0        107.0     USA_HYPER_EQUIPPED   \n",
       "4  residential_sale              3.0        147.0     USA_HYPER_EQUIPPED   \n",
       "\n",
       "  Furnished  Open_fire Terrace  Terrace_Area Garden  Garden_Area  \\\n",
       "0     False      False    True          43.0    NaN          NaN   \n",
       "1     False      False    True          43.0    NaN          NaN   \n",
       "2     False      False    True          43.0    NaN          NaN   \n",
       "3     False      False    True          17.0    NaN          NaN   \n",
       "4     False      False    True          52.0    NaN          NaN   \n",
       "\n",
       "   Surface_area_of_the_plot_of_land  Number_of_facades Swimming_pool  \\\n",
       "0                               NaN                4.0           NaN   \n",
       "1                               NaN                4.0           NaN   \n",
       "2                               NaN                4.0           NaN   \n",
       "3                               NaN                NaN         False   \n",
       "4                               NaN                2.0           NaN   \n",
       "\n",
       "  State_of_the_building  Unnamed: 0  \n",
       "0                   NaN         0.0  \n",
       "1                   NaN         1.0  \n",
       "2                   NaN         2.0  \n",
       "3                AS_NEW         3.0  \n",
       "4                   NaN         4.0  "
      ]
     },
     "execution_count": 2,
     "metadata": {},
     "output_type": "execute_result"
    }
   ],
   "source": [
    "import pandas as pd\n",
    "import seaborn as sns\n",
    "import matplotlib.pyplot as plt\n",
    "import numpy as np\n",
    "from sklearn.model_selection import train_test_split \n",
    "from sklearn.metrics import mean_absolute_error\n",
    "from sklearn.metrics import r2_score\n",
    "\n",
    "\n",
    "#Import dataset and have a look on the first entries\n",
    "df = pd.read_csv(\"data_set_immoweb.csv\")\n",
    "df.head()\n",
    "\n"
   ]
  },
  {
   "cell_type": "code",
   "execution_count": 2,
   "metadata": {},
   "outputs": [],
   "source": [
    "# Cleaning the dataset\n",
    "\n",
    "#(1) Drop indices as Pandas creates indices too\n",
    "df.drop('Unnamed: 0.1', axis=1, inplace=True)\n",
    "df.drop('Unnamed: 0', axis=1, inplace=True)\n",
    "\n",
    "#(2) Remove duplicates \n",
    "df.drop_duplicates(inplace=True)\n",
    "\n",
    "#(3) No blank spaces. This method will delete the rows with ALL Nan values\n",
    "df.dropna(how='all') \n",
    "\n",
    "#(4) Change the name of locality to Postal_code:\n",
    "df.rename(columns={'Locality' :'Postal_code'},inplace=True)\n",
    "\n",
    "#(5) Drop other columns which we won't use: \n",
    "remove_columns=['Swimming_pool','Number_of_facades', 'Terrace', 'Garden', 'Open_fire','Furnished']\n",
    "df.drop(remove_columns, axis=1, inplace=True)\n",
    "\n",
    "\n",
    "\n"
   ]
  },
  {
   "attachments": {},
   "cell_type": "markdown",
   "metadata": {},
   "source": [
    "We want our model to predict house and apartment prices. We work, as previously, with only apartments and houses (Type of property). And only with residential sales (type of sale). The other type of sales include also entries of non-sale properties. "
   ]
  },
  {
   "cell_type": "code",
   "execution_count": 3,
   "metadata": {},
   "outputs": [],
   "source": [
    "#Dataset with only apartments and houses\n",
    "df=df[df.Type_of_property.isin(['APARTMENT','HOUSE'])]\n",
    "\n",
    "#Dataset with only residential sales\n",
    "df=df[df.Type_of_sale=='residential_sale']\n",
    "\n",
    "#Remove the Type_of_sale as it has only 1 value:\n",
    "df=df.drop('Type_of_sale', axis=1)\n"
   ]
  },
  {
   "attachments": {},
   "cell_type": "markdown",
   "metadata": {},
   "source": [
    "As we want to predict the prices we're only interested in the data which have price listings. We will remove the other rows without a price mentioned. "
   ]
  },
  {
   "cell_type": "code",
   "execution_count": 4,
   "metadata": {},
   "outputs": [],
   "source": [
    "#Removing outliers\n",
    "df=df[(df.Price>100000) & (df.Price<2000000)]\n",
    "\n",
    "#Removing rows with missing values for Price\n",
    "df.dropna(subset=['Price'], inplace=True)\n",
    "\n",
    "#Changing type of Price\n",
    "df['Price']=df['Price'].astype(int)\n"
   ]
  },
  {
   "attachments": {},
   "cell_type": "markdown",
   "metadata": {},
   "source": [
    "In order to further analyse or dataset, we'll write a function that gives more information about each column. "
   ]
  },
  {
   "cell_type": "code",
   "execution_count": 29,
   "metadata": {},
   "outputs": [],
   "source": [
    "def analyze(dataframe):\n",
    "    \"\"\"\n",
    "    This function shows all the columns of the dataframe.\n",
    "    It prints the number of the unique values and also prints the unique values if it's less than 25. \n",
    "    Furthermore it shows you the number of missing values for each column and the column type. \n",
    "    \"\"\"\n",
    "    for i in dataframe.columns: \n",
    "        print(f\"**************{i}**************\") \n",
    "        if dataframe[i].nunique() <25:\n",
    "            print(dataframe[i].unique())\n",
    "        print(\"Number of unique values:\",dataframe[i].nunique())\n",
    "        print(\"Missing values:\",dataframe[i].isnull().sum())\n",
    "        print(\"Type:\",dataframe[i].dtype)\n",
    "        \"\\n\"\n",
    "        \"\\n\""
   ]
  },
  {
   "cell_type": "code",
   "execution_count": 30,
   "metadata": {},
   "outputs": [
    {
     "name": "stdout",
     "output_type": "stream",
     "text": [
      "**************Postal_code**************\n",
      "Number of unique values: 903\n",
      "Missing values: 0\n",
      "Type: int64\n",
      "**************Type_of_property**************\n",
      "['APARTMENT' 'HOUSE']\n",
      "Number of unique values: 2\n",
      "Missing values: 0\n",
      "Type: object\n",
      "**************Subtype_of_property**************\n",
      "['PENTHOUSE' 'APARTMENT' 'DUPLEX' 'GROUND_FLOOR' 'FLAT_STUDIO' 'LOFT'\n",
      " 'TRIPLEX' 'SERVICE_FLAT' 'KOT' 'HOUSE' 'APARTMENT_BLOCK' 'VILLA'\n",
      " 'MANSION' 'MIXED_USE_BUILDING' 'EXCEPTIONAL_PROPERTY' 'COUNTRY_COTTAGE'\n",
      " 'BUNGALOW' 'TOWN_HOUSE' 'FARMHOUSE' 'CHALET' 'CASTLE' 'OTHER_PROPERTY'\n",
      " 'MANOR_HOUSE']\n",
      "Number of unique values: 23\n",
      "Missing values: 0\n",
      "Type: object\n",
      "**************Price**************\n",
      "Number of unique values: 1515\n",
      "Missing values: 0\n",
      "Type: int32\n",
      "**************Number_of_rooms**************\n",
      "[ 3.  2.  1.  0.  4.  6.  5. 12.  7.  8.  9. 10. 16. 14. 17. 25. 11. 13.\n",
      " 15. 19.]\n",
      "Number of unique values: 20\n",
      "Missing values: 0\n",
      "Type: float64\n",
      "**************Living_Area**************\n",
      "Number of unique values: 606\n",
      "Missing values: 787\n",
      "Type: float64\n",
      "**************Fully_equipped_kitchen**************\n",
      "['USA_HYPER_EQUIPPED' 'NOT_INSTALLED' nan 'INSTALLED' 'HYPER_EQUIPPED'\n",
      " 'SEMI_EQUIPPED' 'USA_INSTALLED' 'USA_SEMI_EQUIPPED' 'USA_UNINSTALLED']\n",
      "Number of unique values: 8\n",
      "Missing values: 3937\n",
      "Type: object\n",
      "**************Terrace_Area**************\n",
      "Number of unique values: 175\n",
      "Missing values: 8680\n",
      "Type: float64\n",
      "**************Garden_Area**************\n",
      "Number of unique values: 914\n",
      "Missing values: 11846\n",
      "Type: float64\n",
      "**************Surface_area_of_the_plot_of_land**************\n",
      "Number of unique values: 2080\n",
      "Missing values: 7101\n",
      "Type: float64\n",
      "**************State_of_the_building**************\n",
      "[nan 'AS_NEW' 'JUST_RENOVATED' 'TO_RESTORE' 'GOOD' 'TO_BE_DONE_UP'\n",
      " 'TO_RENOVATE']\n",
      "Number of unique values: 6\n",
      "Missing values: 3059\n",
      "Type: object\n"
     ]
    }
   ],
   "source": [
    "#Use function 'analyze()' to get information about each column in the dataframe\n",
    "analyze(df)"
   ]
  },
  {
   "attachments": {},
   "cell_type": "markdown",
   "metadata": {},
   "source": [
    "We would have deleted any column with one unique value but there were none. Upon further analysing the dataset we see that there are still missing values that we need to deal with. We have also categorical data which we want to set into numerical values. "
   ]
  },
  {
   "cell_type": "code",
   "execution_count": 31,
   "metadata": {},
   "outputs": [],
   "source": [
    "#Using dictionnaries to map string values to numbers\n",
    "df = df.replace({\"Type_of_property\":{\"APARTMENT\": 1, \"HOUSE\": 2}})\n",
    "df = df.replace({\"Subtype_of_property\":{\"PENTHOUSE\": 1,\"APARTMENT\": 2, \"DUPLEX\": 3, \"GROUND_FLOOR\": 4, \"FLAT_STUDIO\": 5,\"LOFT\": 6, \"TRIPLEX\": 7, \"SERVICE_FLAT\": 8, \"APARTMENT_GROUP\": 9, \"KOT\": 10, \"HOUSE\": 11, \"HOUSE_GROUP\": 12, \"APARTMENT_BLOCK\": 13, \"VILLA\": 14, \"MANSION\": 15, \"MIXED_USE_BUILDING\": 16, \"EXCEPTIONAL_PROPERTY\": 17, \"COUNTRY_COTTAGE\": 18, \"BUNGALOW\": 19, \"TOWN_HOUSE\": 20, \"FARMHOUSE\": 21, \"CHALET\": 22, \"CASTLE\": 23, \"OTHER_PROPERTY\": 24, \"MANOR_HOUSE\": 25}})\n",
    "df = df.replace({\"Fully_equipped_kitchen\":{\"NOT_INSTALLED\": 0, \"USA_HYPER_EQUIPPED\": 1, \"INSTALLED\": 2, \"HYPER_EQUIPPED\": 3, \"SEMI_EQUIPPED\": 4, \"USA_INSTALLED\": 5, \"USA_SEMI_EQUIPPED\": 6, \"USA_UNINSTALLED\": 7}})\n",
    "df = df.replace({\"State_of_the_building\":{\"AS_NEW\": 1, \"JUST_RENOVATED\": 2, \"TO_RESTORE\": 3, \"GOOD\": 4, \"TO_RENOVATE\": 5, \"TO_BE_DONE_UP\": 6}})"
   ]
  },
  {
   "attachments": {},
   "cell_type": "markdown",
   "metadata": {},
   "source": [
    "In this step we'll deal with missing values."
   ]
  },
  {
   "cell_type": "code",
   "execution_count": 32,
   "metadata": {},
   "outputs": [
    {
     "name": "stdout",
     "output_type": "stream",
     "text": [
      "['Living_Area', 'Fully_equipped_kitchen', 'Terrace_Area', 'Garden_Area', 'Surface_area_of_the_plot_of_land', 'State_of_the_building']\n"
     ]
    }
   ],
   "source": [
    "#List of missing values in any column\n",
    "missing_columns = df.columns[df.isna().any()].tolist()\n",
    "\n",
    "print(missing_columns)"
   ]
  },
  {
   "attachments": {},
   "cell_type": "markdown",
   "metadata": {},
   "source": [
    "We start with Living_Area. As there's a little correlation between Living_Area and Number_of_rooms we can use the latter to predict the Living_Area. "
   ]
  },
  {
   "cell_type": "code",
   "execution_count": 33,
   "metadata": {},
   "outputs": [],
   "source": [
    "#Removing missing values for Living_Area depending on number_of_rooms\n",
    "\n",
    "# Consider only properties with less than 11 rooms. \n",
    "df['Number_of_rooms']= df['Number_of_rooms'].astype(int)\n",
    "df=df[df.Number_of_rooms<11]\n",
    "\n",
    "#Change missing value in Living_Area by corresponding mean area depending to the type of property and number_of_rooms.\n",
    "df['Living_Area'] = df['Living_Area'].fillna(df.groupby(['Type_of_property','Number_of_rooms'])['Living_Area'].transform('mean'))\n",
    "df['Living_Area']=df['Living_Area'].astype(int)"
   ]
  },
  {
   "cell_type": "code",
   "execution_count": 34,
   "metadata": {},
   "outputs": [],
   "source": [
    "#Removing missing values for Fully_equipped_kitchen depending \n",
    "\n",
    "df['Fully_equipped_kitchen'].fillna(0, inplace=True)\n",
    "df['Fully_equipped_kitchen'] = df['Fully_equipped_kitchen'].apply(lambda x : \"False\" if x in [0,7] else \"True\")\n",
    "df = df.replace({\"Fully_equipped_kitchen\": {\"False\": 0, \"True\": 1}})\n",
    "df['Fully_equipped_kitchen']= df['Fully_equipped_kitchen'].astype(int)\n"
   ]
  },
  {
   "cell_type": "code",
   "execution_count": 35,
   "metadata": {},
   "outputs": [],
   "source": [
    "#Removing missing values for Terrace_Area\n",
    "\n",
    "df['Terrace_Area'].fillna(0, inplace=True)\n",
    "df['Terrace_Area']=df['Terrace_Area'].astype(int)\n",
    "\n",
    "#Removing missing values for Surface_area_of_the_plot_of_land\n",
    "df['Surface_area_of_the_plot_of_land'].fillna(0, inplace=True)\n",
    "df['Surface_area_of_the_plot_of_land']=df['Surface_area_of_the_plot_of_land'].astype(int)\n",
    "\n",
    "#Removing missing values for Garden_Area\n",
    "df['Garden_Area'].fillna(0, inplace=True)\n",
    "df['Garden_Area']=df['Garden_Area'].astype(int)\n",
    "\n",
    "#Removing missing values for State_of_the_building\n",
    "df['State_of_the_building'].fillna(\"GOOD\", inplace=True)\n",
    "df = df.replace({\"State_of_the_building\":{\"AS_NEW\": 1, \"JUST_RENOVATED\": 2, \"TO_RESTORE\": 3, \"GOOD\": 4, \"TO_RENOVATE\": 5, \"TO_BE_DONE_UP\": 6}})\n",
    "df['State_of_the_building']=df['State_of_the_building'].astype(int)"
   ]
  },
  {
   "attachments": {},
   "cell_type": "markdown",
   "metadata": {},
   "source": [
    "As a last process in this step, we will add a column with 10 provinces of Belgium and the region Brussels. We want to see the effect of this feature in our ML model. "
   ]
  },
  {
   "cell_type": "code",
   "execution_count": 36,
   "metadata": {},
   "outputs": [],
   "source": [
    "#Function to convert postal code to the 10 provinces or Brussels \n",
    "def provinces(postal_code):\n",
    "    \"\"\"\n",
    "    This function converts the postal_code into the provinces of Belgium. It includes also the region Brussels. \n",
    "    \"\"\"\n",
    "    if 1000 <= postal_code < 1300:\n",
    "        return \"Brussels\"\n",
    "    elif 1300 <= postal_code < 1500:\n",
    "        return \"Walloon Brabant\"\n",
    "    elif (postal_code >= 1500 and postal_code < 2000) or (postal_code >= 3000 and postal_code < 3500):\n",
    "        return \"Flemish Brabant\"\n",
    "    elif 2000 <= postal_code < 3000:\n",
    "        return \"Antwerp\"\n",
    "    elif 3500 <= postal_code < 4000:\n",
    "        return \"Limburg\"\n",
    "    elif 4000 <= postal_code < 5000:\n",
    "        return \"Liège\"\n",
    "    elif 5000 <= postal_code < 6000:\n",
    "        return \"Namur\"\n",
    "    elif (postal_code >= 6000 and postal_code < 6600) or (postal_code >= 7000 and postal_code < 8000):\n",
    "        return \"Hainaut\" \n",
    "    elif 6600 <= postal_code < 7000:\n",
    "        return \"Luxembourg\"\n",
    "    elif 8000 <= postal_code < 9000:\n",
    "        return \"West Flanders\"  \n",
    "    else: \n",
    "        return \"East Flanders\"\n",
    "\n",
    "#add column next to postalcode\n",
    "df.insert(1, 'Province', df.Postal_code.apply(provinces))"
   ]
  },
  {
   "cell_type": "code",
   "execution_count": 38,
   "metadata": {},
   "outputs": [
    {
     "name": "stdout",
     "output_type": "stream",
     "text": [
      "**************Postal_code**************\n",
      "Number of unique values: 901\n",
      "Missing values: 0\n",
      "Type: int64\n",
      "**************Province**************\n",
      "['Brussels' 'Walloon Brabant' 'West Flanders' 'East Flanders' 'Liège'\n",
      " 'Hainaut' 'Luxembourg' 'Flemish Brabant' 'Namur' 'Antwerp' 'Limburg']\n",
      "Number of unique values: 11\n",
      "Missing values: 0\n",
      "Type: object\n",
      "**************Type_of_property**************\n",
      "[1 2]\n",
      "Number of unique values: 2\n",
      "Missing values: 0\n",
      "Type: int64\n",
      "**************Subtype_of_property**************\n",
      "[ 1  2  3  4  5  6  7  8 10 11 13 14 15 16 17 18 19 20 21 22 24 25 23]\n",
      "Number of unique values: 23\n",
      "Missing values: 0\n",
      "Type: int64\n",
      "**************Price**************\n",
      "Number of unique values: 1513\n",
      "Missing values: 0\n",
      "Type: int32\n",
      "**************Number_of_rooms**************\n",
      "[ 3  2  1  0  4  6  5  7  8  9 10]\n",
      "Number of unique values: 11\n",
      "Missing values: 0\n",
      "Type: int32\n",
      "**************Living_Area**************\n",
      "Number of unique values: 596\n",
      "Missing values: 0\n",
      "Type: int32\n",
      "**************Fully_equipped_kitchen**************\n",
      "[1 0]\n",
      "Number of unique values: 2\n",
      "Missing values: 0\n",
      "Type: int32\n",
      "**************Terrace_Area**************\n",
      "Number of unique values: 175\n",
      "Missing values: 0\n",
      "Type: int32\n",
      "**************Garden_Area**************\n",
      "Number of unique values: 911\n",
      "Missing values: 0\n",
      "Type: int32\n",
      "**************Surface_area_of_the_plot_of_land**************\n",
      "Number of unique values: 2072\n",
      "Missing values: 0\n",
      "Type: int32\n",
      "**************State_of_the_building**************\n",
      "[4 1 2 3 6 5]\n",
      "Number of unique values: 6\n",
      "Missing values: 0\n",
      "Type: int32\n"
     ]
    }
   ],
   "source": [
    "analyze(df)"
   ]
  },
  {
   "attachments": {},
   "cell_type": "markdown",
   "metadata": {},
   "source": [
    "We have no missing values and the dataset seems clean. We'll save everything in a file so that we have a cleaned version of the dataset. "
   ]
  },
  {
   "cell_type": "code",
   "execution_count": 39,
   "metadata": {},
   "outputs": [],
   "source": [
    "df.to_csv(\"cleaned_data_set_immoweb.csv\")"
   ]
  },
  {
   "attachments": {},
   "cell_type": "markdown",
   "metadata": {},
   "source": [
    "# Step 2: Data formatting and model selection"
   ]
  },
  {
   "attachments": {},
   "cell_type": "markdown",
   "metadata": {},
   "source": [
    "We can run the following code to work directly with our cleaned dataset. "
   ]
  },
  {
   "cell_type": "code",
   "execution_count": 42,
   "metadata": {},
   "outputs": [
    {
     "data": {
      "text/plain": [
       "''"
      ]
     },
     "execution_count": 42,
     "metadata": {},
     "output_type": "execute_result"
    }
   ],
   "source": [
    "\"\"\"\n",
    "df = pd.read_csv(\"cleaned_data_set_immoweb.csv\")\n",
    "df.drop('Unnamed: 0', axis=1, inplace=True)\n",
    "df.head()\n",
    "\"\"\""
   ]
  },
  {
   "cell_type": "code",
   "execution_count": 3,
   "metadata": {},
   "outputs": [
    {
     "data": {
      "text/html": [
       "<div>\n",
       "<style scoped>\n",
       "    .dataframe tbody tr th:only-of-type {\n",
       "        vertical-align: middle;\n",
       "    }\n",
       "\n",
       "    .dataframe tbody tr th {\n",
       "        vertical-align: top;\n",
       "    }\n",
       "\n",
       "    .dataframe thead th {\n",
       "        text-align: right;\n",
       "    }\n",
       "</style>\n",
       "<table border=\"1\" class=\"dataframe\">\n",
       "  <thead>\n",
       "    <tr style=\"text-align: right;\">\n",
       "      <th></th>\n",
       "      <th>Postal_code</th>\n",
       "      <th>Province</th>\n",
       "      <th>Type_of_property</th>\n",
       "      <th>Subtype_of_property</th>\n",
       "      <th>Price</th>\n",
       "      <th>Number_of_rooms</th>\n",
       "      <th>Living_Area</th>\n",
       "      <th>Fully_equipped_kitchen</th>\n",
       "      <th>Terrace_Area</th>\n",
       "      <th>Garden_Area</th>\n",
       "      <th>Surface_area_of_the_plot_of_land</th>\n",
       "      <th>State_of_the_building</th>\n",
       "    </tr>\n",
       "  </thead>\n",
       "  <tbody>\n",
       "    <tr>\n",
       "      <th>0</th>\n",
       "      <td>1130</td>\n",
       "      <td>Brussels</td>\n",
       "      <td>1</td>\n",
       "      <td>1</td>\n",
       "      <td>450000</td>\n",
       "      <td>3</td>\n",
       "      <td>156</td>\n",
       "      <td>1</td>\n",
       "      <td>43</td>\n",
       "      <td>0</td>\n",
       "      <td>0</td>\n",
       "      <td>4</td>\n",
       "    </tr>\n",
       "    <tr>\n",
       "      <th>1</th>\n",
       "      <td>1140</td>\n",
       "      <td>Brussels</td>\n",
       "      <td>1</td>\n",
       "      <td>1</td>\n",
       "      <td>450000</td>\n",
       "      <td>3</td>\n",
       "      <td>156</td>\n",
       "      <td>1</td>\n",
       "      <td>43</td>\n",
       "      <td>0</td>\n",
       "      <td>0</td>\n",
       "      <td>4</td>\n",
       "    </tr>\n",
       "    <tr>\n",
       "      <th>2</th>\n",
       "      <td>1180</td>\n",
       "      <td>Brussels</td>\n",
       "      <td>1</td>\n",
       "      <td>2</td>\n",
       "      <td>485000</td>\n",
       "      <td>2</td>\n",
       "      <td>107</td>\n",
       "      <td>1</td>\n",
       "      <td>17</td>\n",
       "      <td>0</td>\n",
       "      <td>0</td>\n",
       "      <td>1</td>\n",
       "    </tr>\n",
       "    <tr>\n",
       "      <th>3</th>\n",
       "      <td>1000</td>\n",
       "      <td>Brussels</td>\n",
       "      <td>1</td>\n",
       "      <td>3</td>\n",
       "      <td>460000</td>\n",
       "      <td>3</td>\n",
       "      <td>147</td>\n",
       "      <td>1</td>\n",
       "      <td>52</td>\n",
       "      <td>0</td>\n",
       "      <td>0</td>\n",
       "      <td>4</td>\n",
       "    </tr>\n",
       "    <tr>\n",
       "      <th>4</th>\n",
       "      <td>1340</td>\n",
       "      <td>Walloon Brabant</td>\n",
       "      <td>1</td>\n",
       "      <td>2</td>\n",
       "      <td>475000</td>\n",
       "      <td>3</td>\n",
       "      <td>115</td>\n",
       "      <td>0</td>\n",
       "      <td>20</td>\n",
       "      <td>0</td>\n",
       "      <td>0</td>\n",
       "      <td>1</td>\n",
       "    </tr>\n",
       "  </tbody>\n",
       "</table>\n",
       "</div>"
      ],
      "text/plain": [
       "   Postal_code         Province  Type_of_property  Subtype_of_property  \\\n",
       "0         1130         Brussels                 1                    1   \n",
       "1         1140         Brussels                 1                    1   \n",
       "2         1180         Brussels                 1                    2   \n",
       "3         1000         Brussels                 1                    3   \n",
       "4         1340  Walloon Brabant                 1                    2   \n",
       "\n",
       "    Price  Number_of_rooms  Living_Area  Fully_equipped_kitchen  Terrace_Area  \\\n",
       "0  450000                3          156                       1            43   \n",
       "1  450000                3          156                       1            43   \n",
       "2  485000                2          107                       1            17   \n",
       "3  460000                3          147                       1            52   \n",
       "4  475000                3          115                       0            20   \n",
       "\n",
       "   Garden_Area  Surface_area_of_the_plot_of_land  State_of_the_building  \n",
       "0            0                                 0                      4  \n",
       "1            0                                 0                      4  \n",
       "2            0                                 0                      1  \n",
       "3            0                                 0                      4  \n",
       "4            0                                 0                      1  "
      ]
     },
     "execution_count": 3,
     "metadata": {},
     "output_type": "execute_result"
    }
   ],
   "source": [
    "df = pd.read_csv(\"cleaned_data_set_immoweb.csv\")\n",
    "df.drop('Unnamed: 0', axis=1, inplace=True)\n",
    "df.head()\n",
    "\n"
   ]
  },
  {
   "attachments": {},
   "cell_type": "markdown",
   "metadata": {},
   "source": [
    "We will narrow down our features depending on the correlation tests that we did in an earlier project. We would like to keep the columns we have but as there's a relation between Province and Postal code, and between Type_of_property and Subtype_of_property, we are only going to keep one of them. "
   ]
  },
  {
   "cell_type": "code",
   "execution_count": 4,
   "metadata": {},
   "outputs": [],
   "source": [
    "df=df.drop(['Province','Fully_equipped_kitchen','Type_of_property'], axis=1)\n",
    "\n",
    "#Selecting our features\n",
    "X=df.drop(['Price'], axis=1)\n",
    "\n",
    "#Target\n",
    "y=df['Price']"
   ]
  },
  {
   "cell_type": "code",
   "execution_count": 5,
   "metadata": {},
   "outputs": [],
   "source": [
    "# dividing dataset for training and testing\n",
    "X_train, X_test, y_train, y_test = train_test_split(X, y, test_size=0.2, random_state=40)\n",
    "\n",
    "#Select model\n",
    "from sklearn.ensemble import RandomForestRegressor\n",
    "    \n",
    "# Train the model\n",
    "rf_model = RandomForestRegressor(n_estimators=40,random_state=42) #28 et 42\n",
    "rf_model.fit(X_train,y_train)\n",
    "rf_model_pred =rf_model.predict(X_test)\n"
   ]
  },
  {
   "attachments": {},
   "cell_type": "markdown",
   "metadata": {},
   "source": [
    "# Step 3: Model evaluation"
   ]
  },
  {
   "attachments": {},
   "cell_type": "markdown",
   "metadata": {},
   "source": [
    "In order to achieve a good accuracy and to compare this accuracy efficiently, we have written a function to see the metrics."
   ]
  },
  {
   "cell_type": "code",
   "execution_count": 6,
   "metadata": {},
   "outputs": [],
   "source": [
    "def performance(model): \n",
    "    \"\"\" \n",
    "    Works only with following formatted dataset: X_train, X_test, y_train, y_test\n",
    "    This function tests the performance of the model. It will give an idea about the following metrics: \n",
    "    --> Mean Absolute Error (MAE): This is a measure of the average difference between the predicted values and the true values. \n",
    "    --> R²: This is a measure of how well the model fits the data, with a value between 0 and \n",
    "    \"\"\"\n",
    "    mae= mean_absolute_error(y_test,model.predict(X_test))\n",
    "    r2 = r2_score(y_test, rf_model_pred)\n",
    "    print(f\"This model has a Mean Absolute error of {round(mae)}. The accuracy is {round(r2*100)}%\")\n"
   ]
  },
  {
   "cell_type": "code",
   "execution_count": 7,
   "metadata": {},
   "outputs": [
    {
     "name": "stdout",
     "output_type": "stream",
     "text": [
      "This model has a Mean Absolute error of 90979. The accuracy is 75%\n"
     ]
    }
   ],
   "source": [
    "performance(rf_model)"
   ]
  },
  {
   "attachments": {},
   "cell_type": "markdown",
   "metadata": {},
   "source": [
    "We have also evaluated the model with some plots. The plot below gives an idea about the importance of each feature and was useful in selecting the features. "
   ]
  },
  {
   "cell_type": "code",
   "execution_count": 8,
   "metadata": {},
   "outputs": [
    {
     "data": {
      "image/png": "[encoded data removed]",
      "text/plain": [
       "<Figure size 640x480 with 1 Axes>"
      ]
     },
     "metadata": {},
     "output_type": "display_data"
    }
   ],
   "source": [
    "# feature importance\n",
    "importance = rf_model.feature_importances_\n",
    "\n",
    "# plot feature importance\n",
    "plt.bar(range(X.shape[1]), importance)\n",
    "plt.xlabel(\"Feature index\")\n",
    "plt.ylabel(\"Feature importance\")\n",
    "plt.show()"
   ]
  },
  {
   "attachments": {},
   "cell_type": "markdown",
   "metadata": {},
   "source": [
    "The following plot shows the difference between the predicted values and the actual values. The residuals should be randomly distributed around zero (for a good model). We see that this is the case for a price range between 250,000 EUR and 750,000 EUR. "
   ]
  },
  {
   "cell_type": "code",
   "execution_count": 9,
   "metadata": {},
   "outputs": [
    {
     "data": {
      "image/png": "[encoded data removed]",
      "text/plain": [
       "<Figure size 640x480 with 1 Axes>"
      ]
     },
     "metadata": {},
     "output_type": "display_data"
    }
   ],
   "source": [
    "# predict the target variable using the model\n",
    "y_pred = rf_model.predict(X_test)\n",
    "\n",
    "# calculate the residuals\n",
    "residuals = y_test - y_pred\n",
    "\n",
    "# create a scatter plot of the residuals\n",
    "plt.scatter(y_pred, residuals)\n",
    "plt.xlabel('Predicted')\n",
    "plt.ylabel('Residuals')\n",
    "plt.show()"
   ]
  },
  {
   "cell_type": "code",
   "execution_count": 10,
   "metadata": {},
   "outputs": [
    {
     "data": {
      "image/png": "[encoded data removed]",
      "text/plain": [
       "<Figure size 640x480 with 1 Axes>"
      ]
     },
     "metadata": {},
     "output_type": "display_data"
    }
   ],
   "source": [
    "# predict the target variable using the model\n",
    "y_pred = rf_model.predict(X_test)\n",
    "\n",
    "# create a scatter plot of the predicted vs actual values\n",
    "plt.scatter(y_test, y_pred)\n",
    "plt.xlabel('Actual Values')\n",
    "plt.ylabel('Predicted Values')\n",
    "plt.show()\n"
   ]
  },
  {
   "attachments": {},
   "cell_type": "markdown",
   "metadata": {},
   "source": [
    "We can again see that the model is performing well for a price range between 250,000 EUR and 750,000 EUR. The points on the plot form a diagonal line indicating that the predicted values are similar to the actual values."
   ]
  }
 ],
 "metadata": {
  "kernelspec": {
   "display_name": "Python 3",
   "language": "python",
   "name": "python3"
  },
  "language_info": {
   "codemirror_mode": {
    "name": "ipython",
    "version": 3
   },
   "file_extension": ".py",
   "mimetype": "text/x-python",
   "name": "python",
   "nbconvert_exporter": "python",
   "pygments_lexer": "ipython3",
   "version": "3.11.1"
  },
  "orig_nbformat": 4,
  "vscode": {
   "interpreter": {
    "hash": "5238573367df39f7286bb46f9ff5f08f63a01a80960060ce41e3c79b190280fa"
   }
  }
 },
 "nbformat": 4,
 "nbformat_minor": 2
}
